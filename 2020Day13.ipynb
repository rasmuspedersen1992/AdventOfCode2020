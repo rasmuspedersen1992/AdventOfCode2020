{
 "metadata": {
  "language_info": {
   "codemirror_mode": {
    "name": "ipython",
    "version": 3
   },
   "file_extension": ".py",
   "mimetype": "text/x-python",
   "name": "python",
   "nbconvert_exporter": "python",
   "pygments_lexer": "ipython3",
   "version": "3.8.5-final"
  },
  "orig_nbformat": 2,
  "kernelspec": {
   "name": "python3",
   "display_name": "Python 3"
  }
 },
 "nbformat": 4,
 "nbformat_minor": 2,
 "cells": [
  {
   "cell_type": "code",
   "execution_count": 8,
   "metadata": {},
   "outputs": [],
   "source": [
    "import numpy as np\n",
    "\n",
    "timeStamp = 939\n",
    "buses =[7,13,59,31,19]\n",
    "timeStamp = 1001171\n",
    "buses = [17,41,37,367,19,23,29,613,13]\n",
    "# buses = np.array([7,13,59,31,19])\n",
    "timeStamp = 939\n",
    "busesRaw = '7,13,x,x,59,x,31,19'\n",
    "timeStamp = 1001171\n",
    "busesRaw = '17,x,x,x,x,x,x,41,x,x,x,37,x,x,x,x,x,367,x,x,x,x,x,x,x,x,x,x,x,x,x,x,x,x,x,x,19,x,x,x,23,x,x,x,x,x,29,x,613,x,x,x,x,x,x,x,x,x,x,x,x,13'\n",
    "# busesRaw = '17,x,13,19'\n",
    "# busesRaw = '67,7,x,59,61'\n",
    "# busesRaw = '1789,37,47,1889'"
   ]
  },
  {
   "cell_type": "code",
   "execution_count": 9,
   "metadata": {},
   "outputs": [
    {
     "output_type": "stream",
     "name": "stdout",
     "text": [
      "[ 17.  41.  37. 367.  19.  23.  29. 613.  13.]\n[ 17  41  37 367  19  23  29 613  13]\n"
     ]
    }
   ],
   "source": [
    "# Get buses for part 1\n",
    "busesSplit = busesRaw.split(',')\n",
    "buses = []\n",
    "for k in range(0,len(busesSplit)):\n",
    "    if (busesSplit[k] != 'x'):\n",
    "        buses = np.append(buses,int(busesSplit[k]))\n",
    "print(buses)\n",
    "buses = buses.astype(int)\n",
    "print(buses)"
   ]
  },
  {
   "cell_type": "code",
   "execution_count": 10,
   "metadata": {},
   "outputs": [
    {
     "output_type": "stream",
     "name": "stdout",
     "text": [
      "Part 1 solution: 1835.0\n"
     ]
    }
   ],
   "source": [
    "# Part 1\n",
    "newTimes = []\n",
    "for k in range(0,len(buses)):\n",
    "    curBus = buses[k]\n",
    "    timeSinceBus = timeStamp % curBus\n",
    "    newTime = timeStamp - timeSinceBus + curBus\n",
    "    newTimes = np.append(newTimes,newTime)\n",
    "\n",
    "minID = np.argmin(newTimes)\n",
    "part1sol = (newTimes[minID] - timeStamp) * buses[minID]\n",
    "print(f'Part 1 solution: {part1sol}')"
   ]
  },
  {
   "cell_type": "code",
   "execution_count": 11,
   "metadata": {},
   "outputs": [
    {
     "output_type": "stream",
     "name": "stdout",
     "text": [
      "[ 17.  41.  37. 367.  19.  23.  29. 613.  13.]\n[ 0.  7. 11. 17. 36. 40. 46. 48. 61.]\n"
     ]
    }
   ],
   "source": [
    "buses = []\n",
    "busOrders = []\n",
    "busOrdersFull = []\n",
    "curBusOrder = 0\n",
    "for k in range(0,len(busesSplit)):\n",
    "    if (busesSplit[k] != 'x'):\n",
    "        # buses = np.append(buses,int(busesSplit[k]))\n",
    "        buses = np.append(buses,np.int64(busesSplit[k]))\n",
    "        busOrders = np.append(busOrders,curBusOrder)\n",
    "        \n",
    "    busOrdersFull = np.append(busOrdersFull,curBusOrder)\n",
    "    curBusOrder = curBusOrder +1\n",
    "    \n",
    "# buses = buses.astype(int)\n",
    "print(buses)\n",
    "print(busOrders)\n"
   ]
  },
  {
   "cell_type": "code",
   "execution_count": 35,
   "metadata": {},
   "outputs": [
    {
     "output_type": "stream",
     "name": "stdout",
     "text": [
      "First time that the 1 first buses fulfill criteria is at time 17\nFirst time that the 2 first buses fulfill criteria is at time 34\nFirst time that the 3 first buses fulfill criteria is at time 18156\nFirst time that the 4 first buses fulfill criteria is at time 2932313\nFirst time that the 5 first buses fulfill criteria is at time 107042506\nFirst time that the 6 first buses fulfill criteria is at time 1186002688\nFirst time that the 7 first buses fulfill criteria is at time 121130409587\nFirst time that the 8 first buses fulfill criteria is at time 26508899927367\nFirst time that the 9 first buses fulfill criteria is at time 247086664214628\nPart 2 solution: 247086664214628\n"
     ]
    }
   ],
   "source": [
    "# Part 2, pretty solution\n",
    "maxVal = 1000000000000000\n",
    "k = 1\n",
    "curInc = 1\n",
    "nextBus = 0\n",
    "while (k < maxVal):\n",
    "\n",
    "    \n",
    "    if (((k + busOrders[nextBus]) % buses[nextBus]) == 0):\n",
    "        curInc = curInc * buses[nextBus]\n",
    "        nextBus = nextBus + 1\n",
    "        part2sol = int(k)\n",
    "        print(f'First time that the {nextBus} first buses fulfill criteria is at time {int(k)}')\n",
    "\n",
    "    k = k + curInc\n",
    "\n",
    "print(f'Part 2 solution: {part2sol}')"
   ]
  },
  {
   "cell_type": "code",
   "execution_count": 36,
   "metadata": {
    "tags": []
   },
   "outputs": [
    {
     "output_type": "stream",
     "name": "stdout",
     "text": [
      "Part 2 solution: 247086664214628\n"
     ]
    }
   ],
   "source": [
    "# Part 2, stupid implementation of pretty solution\n",
    "maxVal = 1000000000000000\n",
    "k = np.int64(1)\n",
    "curInc = np.int64(1)\n",
    "while (k < maxVal):\n",
    "    if (((k + busOrders[0]) % buses[0]) == 0):\n",
    "        curInc = buses[0]\n",
    "        \n",
    "        if (((k + busOrders[1]) % buses[1]) == 0):\n",
    "            curInc = curInc * buses[1]\n",
    "            \n",
    "            if (((k + busOrders[2]) % buses[2]) == 0):\n",
    "                curInc = curInc * buses[2]\n",
    "                \n",
    "                if (((k + busOrders[3]) % buses[3]) == 0):\n",
    "                    curInc = curInc * buses[3]\n",
    "                        \n",
    "                    if (((k + busOrders[4]) % buses[4]) == 0):\n",
    "                        curInc = curInc * buses[4]\n",
    "                        \n",
    "                        if (((k + busOrders[5]) % buses[5]) == 0):\n",
    "                            curInc = curInc * buses[5]\n",
    "\n",
    "                            if (((k + busOrders[6]) % buses[6]) == 0):\n",
    "                                curInc = curInc * buses[6]\n",
    "                                \n",
    "                                if (((k + busOrders[7]) % buses[7]) == 0):\n",
    "                                    curInc = curInc * buses[7] \n",
    "                                    \n",
    "                                    if (((k + busOrders[8]) % buses[8]) == 0):\n",
    "                                        curInc = curInc * buses[8]\n",
    "                                        \n",
    "                                        print(f'Part 2 solution: {np.int64(k)}')\n",
    "    k = k + curInc\n"
   ]
  }
 ]
}