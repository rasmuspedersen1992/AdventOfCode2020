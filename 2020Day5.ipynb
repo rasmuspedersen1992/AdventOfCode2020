{
 "metadata": {
  "language_info": {
   "codemirror_mode": {
    "name": "ipython",
    "version": 3
   },
   "file_extension": ".py",
   "mimetype": "text/x-python",
   "name": "python",
   "nbconvert_exporter": "python",
   "pygments_lexer": "ipython3",
   "version": "3.8.5-final"
  },
  "orig_nbformat": 2,
  "kernelspec": {
   "name": "python3",
   "display_name": "Python 3"
  }
 },
 "nbformat": 4,
 "nbformat_minor": 2,
 "cells": [
  {
   "cell_type": "code",
   "execution_count": 1,
   "metadata": {},
   "outputs": [
    {
     "output_type": "stream",
     "name": "stdout",
     "text": [
      "Done loading input\n"
     ]
    }
   ],
   "source": [
    "import numpy as np\n",
    "\n",
    "# Load input\n",
    "filename = 'inputDay5.txt'\n",
    "# curIn = np.loadtxt(filename)\n",
    "\n",
    "# Start by loading the data\n",
    "inputFile = open(filename)\n",
    "inputs = []\n",
    "inputs = [s for s in inputFile.read().splitlines()]\n",
    "\n",
    "print('Done loading input')"
   ]
  },
  {
   "cell_type": "code",
   "execution_count": 12,
   "metadata": {},
   "outputs": [],
   "source": [
    "def getRow(curStr):\n",
    "    rowNum = 0\n",
    "    if (curStr[0] == 'B'):\n",
    "        rowNum = rowNum + 64\n",
    "    if (curStr[1] == 'B'):\n",
    "        rowNum = rowNum + 32\n",
    "    if (curStr[2] == 'B'):\n",
    "        rowNum = rowNum + 16\n",
    "    if (curStr[3] == 'B'):\n",
    "        rowNum = rowNum + 8\n",
    "    if (curStr[4] == 'B'):\n",
    "        rowNum = rowNum + 4\n",
    "    if (curStr[5] == 'B'):\n",
    "        rowNum = rowNum + 2\n",
    "    if (curStr[6] == 'B'):\n",
    "        rowNum = rowNum + 1\n",
    "    return rowNum\n",
    "def getSeat(curStr):\n",
    "    seatNum = 0\n",
    "    if (curStr[7] == 'R'):\n",
    "        seatNum = seatNum + 4\n",
    "    if (curStr[8] == 'R'):\n",
    "        seatNum = seatNum + 2\n",
    "    if (curStr[9] == 'R'):\n",
    "        seatNum = seatNum + 1\n",
    "    return seatNum\n",
    "\n",
    "def getID(curStr):\n",
    "    rowNum = getRow(curStr)\n",
    "    seatNum = getSeat(curStr)\n",
    "    return rowNum*8 + seatNum\n",
    "\n",
    "# testTicket = 'FFFBBBFRRR'\n",
    "# print(getRow(testTicket))\n",
    "# print(getSeat(testTicket))\n",
    "# print(getID(testTicket))"
   ]
  },
  {
   "cell_type": "code",
   "execution_count": 18,
   "metadata": {},
   "outputs": [
    {
     "output_type": "stream",
     "name": "stdout",
     "text": [
      "Part 1 solution: 838\n"
     ]
    }
   ],
   "source": [
    "# Part 1\n",
    "curMax = 0\n",
    "for k in range(0,len(inputs)):\n",
    "    curID = getID(inputs[k])\n",
    "    if (curID > curMax): \n",
    "        curMax = curID\n",
    "    \n",
    "print('Part 1 solution: '+str(curMax))"
   ]
  },
  {
   "cell_type": "code",
   "execution_count": 43,
   "metadata": {},
   "outputs": [
    {
     "output_type": "stream",
     "name": "stdout",
     "text": [
      "(array([618], dtype=int64),)\n618\nPart 2 solution: 714.0\n"
     ]
    }
   ],
   "source": [
    "# Part 2\n",
    "allSeats = []\n",
    "for k in range(0,len(inputs)):\n",
    "    curID = getID(inputs[k])\n",
    "    allSeats = np.append(allSeats,curID)\n",
    "    \n",
    "allSeats = np.sort(allSeats)\n",
    "diffList = allSeats[1:-1]-allSeats[0:-2]\n",
    "prevSeatIndex = np.where(diffList != 1)[0][0]\n",
    "part2Sol = allSeats[prevSeatIndex] + 1\n",
    "\n",
    "print('Part 2 solution: '+str(part2Sol))"
   ]
  }
 ]
}