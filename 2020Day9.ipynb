{
 "metadata": {
  "language_info": {
   "codemirror_mode": {
    "name": "ipython",
    "version": 3
   },
   "file_extension": ".py",
   "mimetype": "text/x-python",
   "name": "python",
   "nbconvert_exporter": "python",
   "pygments_lexer": "ipython3",
   "version": "3.8.5-final"
  },
  "orig_nbformat": 2,
  "kernelspec": {
   "name": "python3",
   "display_name": "Python 3"
  }
 },
 "nbformat": 4,
 "nbformat_minor": 2,
 "cells": [
  {
   "cell_type": "code",
   "execution_count": 1,
   "metadata": {},
   "outputs": [
    {
     "output_type": "stream",
     "name": "stdout",
     "text": [
      "Done loading input\n"
     ]
    }
   ],
   "source": [
    "import numpy as np\n",
    "\n",
    "# Load input\n",
    "filename = 'inputDay9.txt'\n",
    "# filename = 'inputDay9test.txt'\n",
    "# curIn = np.loadtxt(filename)\n",
    "\n",
    "# Start by loading the data\n",
    "inputFile = open(filename)\n",
    "inputs = []\n",
    "inputs = [s for s in inputFile.read().splitlines()]\n",
    "\n",
    "print('Done loading input')"
   ]
  },
  {
   "cell_type": "code",
   "execution_count": 2,
   "metadata": {
    "tags": []
   },
   "outputs": [
    {
     "output_type": "stream",
     "name": "stdout",
     "text": [
      "Part 1 solution found: 90433990\n"
     ]
    }
   ],
   "source": [
    "# Part 1\n",
    "\n",
    "\n",
    "# lenPreample = 5\n",
    "lenPreample = 25\n",
    "lenList = len(inputs)\n",
    "for k in range(lenPreample,lenList):\n",
    "\n",
    "    curNum = int(inputs[k])\n",
    "    notFound = True\n",
    "\n",
    "    # Double loop through\n",
    "    firstIndex = k-lenPreample\n",
    "    lastIndex = k-1\n",
    "    for x in range(firstIndex,lastIndex+1):\n",
    "        num1 = int(inputs[x])\n",
    "        for y in range(x+1,lastIndex+1):\n",
    "            num2 = int(inputs[y])\n",
    "            curSum = num1+num2\n",
    "\n",
    "            # If the number is found, set flag and skip ahead\n",
    "            if (curSum == curNum):\n",
    "                notFound = False\n",
    "                continue\n",
    "\n",
    "    # If the notFound has not been changed, the answer was found\n",
    "    if (notFound == True):\n",
    "        part1sol = curNum\n",
    "        print('Part 1 solution found: '+str(part1sol))\n"
   ]
  },
  {
   "cell_type": "code",
   "execution_count": 5,
   "metadata": {},
   "outputs": [
    {
     "output_type": "stream",
     "name": "stdout",
     "text": [
      "Range found!\nPart 2 solution: 11691646\n[3289338 5179176 4759952 5413470 8402308 4463250 5358204 5385482 4715571\n 5141223 4879861 5096842 5206454 6345865 5288410 5946272 5562312]\n"
     ]
    }
   ],
   "source": [
    "# # Part 2\n",
    "\n",
    "maxRange = 100\n",
    "for rangeLength in range(1,maxRange):\n",
    "    for k in range(0,lenList):\n",
    "\n",
    "        curSum = int(inputs[k])\n",
    "        \n",
    "        for m in range(1,rangeLength+1):\n",
    "            newIndex = k+m\n",
    "            if (newIndex >= lenList):\n",
    "                continue\n",
    "            curSum = curSum + int(inputs[k+m])\n",
    "        \n",
    "\n",
    "        if (curSum == part1sol):\n",
    "            print('Range found!')\n",
    "            # Get the range, as a numpy array of ints\n",
    "            curRange = np.array(inputs[k:k+rangeLength+1]).astype(np.int)\n",
    "            val1 = min(curRange)\n",
    "            val2 = max(curRange)\n",
    "            print('Part 2 solution: '+str(val1+val2))\n",
    "\n"
   ]
  }
 ]
}