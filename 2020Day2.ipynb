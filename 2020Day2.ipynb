{
 "metadata": {
  "language_info": {
   "codemirror_mode": {
    "name": "ipython",
    "version": 3
   },
   "file_extension": ".py",
   "mimetype": "text/x-python",
   "name": "python",
   "nbconvert_exporter": "python",
   "pygments_lexer": "ipython3",
   "version": "3.8.5-final"
  },
  "orig_nbformat": 2,
  "kernelspec": {
   "name": "python3",
   "display_name": "Python 3"
  }
 },
 "nbformat": 4,
 "nbformat_minor": 2,
 "cells": [
  {
   "cell_type": "code",
   "execution_count": 2,
   "metadata": {
    "tags": []
   },
   "outputs": [
    {
     "output_type": "stream",
     "name": "stdout",
     "text": [
      "Done loading input\n"
     ]
    }
   ],
   "source": [
    "import numpy as np\n",
    "\n",
    "# Load input\n",
    "filename = 'inputDay2.txt'\n",
    "# curIn = np.loadtxt(filename)\n",
    "\n",
    "\n",
    "# Start by loading the data\n",
    "inputFile = open(\"inputDay2.txt\")\n",
    "inputs = []\n",
    "inputs = [s for s in inputFile.read().splitlines()]\n",
    "\n",
    "print('Done loading input')"
   ]
  },
  {
   "cell_type": "code",
   "execution_count": 4,
   "metadata": {
    "tags": []
   },
   "outputs": [
    {
     "output_type": "stream",
     "name": "stdout",
     "text": [
      "Part 1 solution: 614\nPart 2 solution: 354\n"
     ]
    }
   ],
   "source": [
    "# Go through each line\n",
    "numLines = len(inputs)\n",
    "numValid1 = 0\n",
    "numValid2 = 0\n",
    "for k in range(0,numLines):\n",
    "# for k in range(0,4):\n",
    "    # Split line\n",
    "    curInput = inputs[k].split(' ')\n",
    "    # print(curInput)\n",
    "\n",
    "    minMax = curInput[0].split('-')\n",
    "    curMin = int(minMax[0])\n",
    "    curMax = int(minMax[1])\n",
    "\n",
    "    # print(curMin)\n",
    "    # print(curMax)\n",
    "\n",
    "    # Get current letter\n",
    "    curLet = curInput[1][0]\n",
    "    # print(curLet)\n",
    "\n",
    "    # Get current \"password\"\n",
    "    curPass = curInput[2]\n",
    "    # print(curPass)\n",
    "\n",
    "    # Check for part 1 validity\n",
    "    curCount = curPass.count(curLet)\n",
    "    if (curCount >= curMin):\n",
    "        if (curCount <= curMax):\n",
    "            numValid1 = numValid1 + 1\n",
    "\n",
    "    # Check for part 2 validity\n",
    "    index1 = curPass[curMin-1]\n",
    "    index2 = curPass[curMax-1]\n",
    "    if (bool(index1 == curLet) ^ bool(index2 == curLet)):\n",
    "        numValid2 = numValid2 + 1 \n",
    "print('Part 1 solution: '+str(numValid1))\n",
    "print('Part 2 solution: '+str(numValid2))"
   ]
  }
 ]
}