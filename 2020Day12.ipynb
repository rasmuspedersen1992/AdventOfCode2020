{
 "metadata": {
  "language_info": {
   "codemirror_mode": {
    "name": "ipython",
    "version": 3
   },
   "file_extension": ".py",
   "mimetype": "text/x-python",
   "name": "python",
   "nbconvert_exporter": "python",
   "pygments_lexer": "ipython3",
   "version": "3.8.5-final"
  },
  "orig_nbformat": 2,
  "kernelspec": {
   "name": "python3",
   "display_name": "Python 3"
  }
 },
 "nbformat": 4,
 "nbformat_minor": 2,
 "cells": [
  {
   "cell_type": "code",
   "execution_count": 55,
   "metadata": {},
   "outputs": [
    {
     "output_type": "stream",
     "name": "stdout",
     "text": [
      "Done loading input\n"
     ]
    }
   ],
   "source": [
    "import numpy as np\n",
    "\n",
    "# Load input\n",
    "filename = 'inputDay12.txt'\n",
    "# filename = 'inputDay12test.txt'\n",
    "# curIn = np.loadtxt(filename)\n",
    "\n",
    "# Start by loading the data\n",
    "inputFile = open(filename)\n",
    "inputs = []\n",
    "inputs = [s for s in inputFile.read().splitlines()]\n",
    "\n",
    "print('Done loading input')"
   ]
  },
  {
   "cell_type": "code",
   "execution_count": 56,
   "metadata": {},
   "outputs": [
    {
     "output_type": "stream",
     "name": "stdout",
     "text": [
      "Part 1 solution: 2879\n"
     ]
    }
   ],
   "source": [
    "# Part 1\n",
    "curPos = np.array([0,0])\n",
    "curRot = 0\n",
    "\n",
    "for k in range(0,len(inputs)):\n",
    "    curCmd = inputs[k] \n",
    "    let = curCmd[0]\n",
    "    val = int(curCmd[1:])\n",
    "    \n",
    "    # Assume all turns are 90 degree intervals\n",
    "    if (let  == 'F'):\n",
    "        if (curRot == 0):\n",
    "            curPos = curPos + np.array([val,0])\n",
    "        if (curRot == 90):\n",
    "            curPos = curPos + np.array([0,val])\n",
    "        if (curRot == 180):\n",
    "            curPos = curPos + np.array([-val,0])\n",
    "        if (curRot == 270):\n",
    "            curPos = curPos + np.array([0,-val])\n",
    "    \n",
    "    if (let == 'R'):\n",
    "        curRot = curRot - val\n",
    "    if (let == 'L'):\n",
    "        curRot = curRot + val\n",
    "\n",
    "    if (let == 'E'):\n",
    "        curPos = curPos + np.array([val,0])\n",
    "    if (let == 'N'):\n",
    "        curPos = curPos + np.array([0,val])\n",
    "    if (let == 'W'):\n",
    "        curPos = curPos + np.array([-val,0])\n",
    "    if (let == 'S'):\n",
    "        curPos = curPos + np.array([0,-val])\n",
    "    \n",
    "    curRot = curRot % 360\n",
    "    # print(curPos,curRot)\n",
    "\n",
    "\n",
    "manDist = abs(curPos[0]) + abs(curPos[1])\n",
    "print('Part 1 solution: '+ str(manDist))"
   ]
  },
  {
   "cell_type": "code",
   "execution_count": 59,
   "metadata": {},
   "outputs": [
    {
     "output_type": "stream",
     "name": "stdout",
     "text": [
      "Part 2 solution: 178986\n"
     ]
    }
   ],
   "source": [
    "# Part 2\n",
    "curPos = np.array([0,0])\n",
    "curWay = np.array([10,1])\n",
    "\n",
    "rotMatrix = np.array([[0,-1],[1,0]])\n",
    "\n",
    "for k in range(0,len(inputs)):\n",
    "    curCmd = inputs[k] \n",
    "    let = curCmd[0]\n",
    "    val = int(curCmd[1:])\n",
    "    \n",
    "    if (let  == 'F'):\n",
    "        curPos = curPos + val*curWay\n",
    "    \n",
    "    # Assume all turns are 90 degree intervals\n",
    "    if (let == 'R'):\n",
    "        numRot = int(val/90)\n",
    "        for n in range(0,numRot):\n",
    "            curWay = np.matmul(-rotMatrix,curWay)\n",
    "    if (let == 'L'):\n",
    "        numRot = int(val/90)\n",
    "        for n in range(0,numRot):\n",
    "            curWay = np.matmul(rotMatrix,curWay)\n",
    "\n",
    "    if (let == 'E'):\n",
    "        curWay = curWay + np.array([val,0])\n",
    "    if (let == 'N'):\n",
    "        curWay = curWay + np.array([0,val])\n",
    "    if (let == 'W'):\n",
    "        curWay = curWay + np.array([-val,0])\n",
    "    if (let == 'S'):\n",
    "        curWay = curWay + np.array([0,-val])\n",
    "    \n",
    "    # print(curPos,curWay)\n",
    "\n",
    "manDist2 = abs(curPos[0]) + abs(curPos[1])\n",
    "print('Part 2 solution: '+ str(manDist2))"
   ]
  }
 ]
}