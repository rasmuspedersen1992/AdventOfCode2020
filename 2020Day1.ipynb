{
 "metadata": {
  "language_info": {
   "codemirror_mode": {
    "name": "ipython",
    "version": 3
   },
   "file_extension": ".py",
   "mimetype": "text/x-python",
   "name": "python",
   "nbconvert_exporter": "python",
   "pygments_lexer": "ipython3",
   "version": "3.6.4-final"
  },
  "orig_nbformat": 2,
  "kernelspec": {
   "name": "python3",
   "display_name": "Python 3"
  }
 },
 "nbformat": 4,
 "nbformat_minor": 2,
 "cells": [
  {
   "cell_type": "code",
   "execution_count": 6,
   "metadata": {},
   "outputs": [],
   "source": [
    "import numpy as np\n",
    "\n",
    "# Load input\n",
    "filename = 'inputDay1.txt'\n",
    "curIn = np.loadtxt(filename)"
   ]
  },
  {
   "cell_type": "code",
   "execution_count": 14,
   "metadata": {
    "tags": []
   },
   "outputs": [
    {
     "output_type": "stream",
     "name": "stdout",
     "text": [
      "1020036.0\n1020036.0\n"
     ]
    }
   ],
   "source": [
    "# Part 1 \n",
    "numVals = len(curIn)\n",
    "for k in range(0,numVals):\n",
    "    for j in range(0,numVals):\n",
    "        curSum = curIn[k] + curIn[j] \n",
    "        # print(curSum)\n",
    "        if (curSum == 2020):\n",
    "            day1Part1 = curIn[k]*curIn[j]\n",
    "            print(day1Part1)"
   ]
  },
  {
   "cell_type": "code",
   "execution_count": 15,
   "metadata": {},
   "outputs": [
    {
     "output_type": "stream",
     "name": "stdout",
     "text": [
      "286977330.0\n",
      "286977330.0\n",
      "286977330.0\n",
      "286977330.0\n",
      "286977330.0\n",
      "286977330.0\n"
     ]
    }
   ],
   "source": [
    "# Part 2, stupid solution: Just do another loop\n",
    "numVals = len(curIn)\n",
    "for k in range(0,numVals):\n",
    "    for j in range(0,numVals):\n",
    "        for m in range(0,numVals):\n",
    "            curSum = curIn[k] + curIn[j] + curIn[m]\n",
    "            if (curSum == 2020):\n",
    "                day1Part2 = curIn[k]*curIn[j]*curIn[m]\n",
    "                print(day1Part2)"
   ]
  }
 ]
}