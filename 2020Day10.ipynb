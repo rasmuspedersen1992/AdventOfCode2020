{
 "metadata": {
  "language_info": {
   "codemirror_mode": {
    "name": "ipython",
    "version": 3
   },
   "file_extension": ".py",
   "mimetype": "text/x-python",
   "name": "python",
   "nbconvert_exporter": "python",
   "pygments_lexer": "ipython3",
   "version": "3.8.5-final"
  },
  "orig_nbformat": 2,
  "kernelspec": {
   "name": "python3",
   "display_name": "Python 3"
  }
 },
 "nbformat": 4,
 "nbformat_minor": 2,
 "cells": [
  {
   "cell_type": "code",
   "execution_count": 93,
   "metadata": {},
   "outputs": [
    {
     "output_type": "stream",
     "name": "stdout",
     "text": [
      "Done loading input\n"
     ]
    }
   ],
   "source": [
    "import numpy as np\n",
    "\n",
    "# Load input\n",
    "filename = 'inputDay10.txt'\n",
    "# filename = 'inputDay10test.txt'\n",
    "# filename = 'inputDay10test2.txt'\n",
    "# curIn = np.loadtxt(filename)\n",
    "\n",
    "# Start by loading the data\n",
    "inputFile = open(filename)\n",
    "inputs = []\n",
    "inputs = [s for s in inputFile.read().splitlines()]\n",
    "\n",
    "print('Done loading input')"
   ]
  },
  {
   "cell_type": "code",
   "execution_count": 94,
   "metadata": {},
   "outputs": [
    {
     "output_type": "stream",
     "name": "stdout",
     "text": [
      "[ 99 151  61 134 112  70  75  41 119 137 158  50 167  60 116 117  62  82\n  31   3  72  88 165  34   8  14  27 108 166  71  51  42 135 122 140 109\n   1 101   2  77  85  76 143 100 127   7 107  13 148 118  56 159 133  21\n 154 152 130  78  54 104 160 153  95  49  19  69 142  63  11  12  29  98\n  84  28  17 146 161 115   4  94  24 126 136  91  57  30 155  79  66 141\n  48 125 162  37  40 147  18  20  45  55  83]\n"
     ]
    }
   ],
   "source": [
    "# print(inputs)\n",
    "intArray = np.array(inputs).astype(np.int)\n",
    "print(intArray)"
   ]
  },
  {
   "cell_type": "code",
   "execution_count": 95,
   "metadata": {},
   "outputs": [
    {
     "output_type": "stream",
     "name": "stdout",
     "text": [
      "[  0   1   2   3   4   7   8  11  12  13  14  17  18  19  20  21  24  27\n  28  29  30  31  34  37  40  41  42  45  48  49  50  51  54  55  56  57\n  60  61  62  63  66  69  70  71  72  75  76  77  78  79  82  83  84  85\n  88  91  94  95  98  99 100 101 104 107 108 109 112 115 116 117 118 119\n 122 125 126 127 130 133 134 135 136 137 140 141 142 143 146 147 148 151\n 152 153 154 155 158 159 160 161 162 165 166 167 170]\n[1 1 1 1 3 1 3 1 1 1 3 1 1 1 1 3 3 1 1 1 1 3 3 3 1 1 3 3 1 1 1 3 1 1 1 3 1\n 1 1 3 3 1 1 1 3 1 1 1 1 3 1 1 1 3 3 3 1 3 1 1 1 3 3 1 1 3 3 1 1 1 1 3 3 1\n 1 3 3 1 1 1 1 3 1 1 1 3 1 1 3 1 1 1 1 3 1 1 1 1 3 1 1 3]\nPart 1 solution: 2312\n"
     ]
    }
   ],
   "source": [
    "ar = np.sort(intArray)\n",
    "\n",
    "# Add 0 and 3+max\n",
    "curMax = max(ar)\n",
    "ar = np.append(ar,curMax+3)\n",
    "ar = np.append(0,ar)\n",
    "\n",
    "print(ar)\n",
    "\n",
    "di = ar[1:] - ar[0:-1]\n",
    "di\n",
    "print(di)\n",
    "\n",
    "num1 = sum(di==1)\n",
    "num3 = sum(di==3)\n",
    "\n",
    "print('Part 1 solution: '+str(num1*num3))"
   ]
  },
  {
   "cell_type": "code",
   "execution_count": 96,
   "metadata": {},
   "outputs": [
    {
     "output_type": "stream",
     "name": "stdout",
     "text": [
      "Part 2 solution: 12089663946752\n"
     ]
    }
   ],
   "source": [
    "def findFixIndex():\n",
    "    fixIndex = []\n",
    "    for i in range(1,len(ar)):\n",
    "        if( (ar[i]-ar[i-1]) == 3):\n",
    "            fixIndex = np.append(fixIndex,i)\n",
    "    return fixIndex\n",
    "\n",
    "fixIndex = findFixIndex().astype(int)\n",
    "fixIndex = np.append(0,fixIndex)\n",
    "\n",
    "def recu(index,target):\n",
    "    if (index == target):\n",
    "        return 1\n",
    "    curVal = ar[index]\n",
    "    curTarVal = ar[target]\n",
    "\n",
    "    # print(f'Index is {index}, and target is {target}')\n",
    "\n",
    "    if (target-index >= 3):\n",
    "        if ((ar[index+3]-curVal)<=3):\n",
    "            a1 = recu(index+1,target)\n",
    "            a2 = recu(index+2,target)\n",
    "            a3 = recu(index+3,target)\n",
    "            toReturn = a1 + a2 + a3\n",
    "            return toReturn\n",
    "    if (target-index >= 2):\n",
    "        if ((ar[index+2]-curVal)<=3):\n",
    "            a1 = recu(index+1,target)\n",
    "            a2 = recu(index+2,target)\n",
    "            toReturn = a1 + a2 \n",
    "            return toReturn\n",
    "    if (target-index >= 1):\n",
    "        if ((ar[index+1]-curVal)<=3):\n",
    "            toReturn = recu(index+1,target)\n",
    "            return toReturn\n",
    "\n",
    "    return 0\n",
    "\n",
    "part2sol = 1\n",
    "\n",
    "for k in range(1,len(fixIndex)):\n",
    "    # print(f'Now testing {k}')\n",
    "    curIndex = fixIndex[k-1]\n",
    "    target = fixIndex[k] \n",
    "    part2sol = part2sol * recu(curIndex,target)\n",
    "    # print(recu(curIndex,target))\n",
    "    # print('---')\n",
    "\n",
    "print(f'Part 2 solution: {part2sol}')\n"
   ]
  }
 ]
}