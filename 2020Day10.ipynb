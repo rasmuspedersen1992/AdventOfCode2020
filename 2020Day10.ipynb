{
 "metadata": {
  "language_info": {
   "codemirror_mode": {
    "name": "ipython",
    "version": 3
   },
   "file_extension": ".py",
   "mimetype": "text/x-python",
   "name": "python",
   "nbconvert_exporter": "python",
   "pygments_lexer": "ipython3",
   "version": "3.8.5-final"
  },
  "orig_nbformat": 2,
  "kernelspec": {
   "name": "python3",
   "display_name": "Python 3"
  }
 },
 "nbformat": 4,
 "nbformat_minor": 2,
 "cells": [
  {
   "cell_type": "code",
   "execution_count": 1,
   "metadata": {},
   "outputs": [
    {
     "output_type": "stream",
     "name": "stdout",
     "text": [
      "Done loading input\n"
     ]
    }
   ],
   "source": [
    "import numpy as np\n",
    "\n",
    "# Load input\n",
    "filename = 'inputDay10.txt'\n",
    "filename = 'inputDay10test.txt'\n",
    "# filename = 'inputDay10test2.txt'\n",
    "# curIn = np.loadtxt(filename)\n",
    "\n",
    "# Start by loading the data\n",
    "inputFile = open(filename)\n",
    "inputs = []\n",
    "inputs = [s for s in inputFile.read().splitlines()]\n",
    "\n",
    "print('Done loading input')"
   ]
  },
  {
   "cell_type": "code",
   "execution_count": 2,
   "metadata": {},
   "outputs": [
    {
     "output_type": "stream",
     "name": "stdout",
     "text": [
      "[16 10 15  5  1 11  7 19  6 12  4]\n"
     ]
    }
   ],
   "source": [
    "# print(inputs)\n",
    "inArray = np.array(inputs).astype(np.int)\n",
    "print(inArray)"
   ]
  },
  {
   "cell_type": "code",
   "execution_count": 3,
   "metadata": {},
   "outputs": [
    {
     "output_type": "stream",
     "name": "stdout",
     "text": [
      "[ 0  1  4  5  6  7 10 11 12 15 16 19 22]\n[1 3 1 1 1 3 1 1 3 1 3 3]\nPart 1 solution: 35\n"
     ]
    }
   ],
   "source": [
    "ar = np.sort(inArray)\n",
    "\n",
    "# Add 0 and 3+max\n",
    "curMax = max(ar)\n",
    "ar = np.append(ar,curMax+3)\n",
    "ar = np.append(0,ar)\n",
    "\n",
    "print(ar)\n",
    "\n",
    "di = ar[1:] - ar[0:-1]\n",
    "di\n",
    "print(di)\n",
    "\n",
    "num1 = sum(di==1)\n",
    "num3 = sum(di==3)\n",
    "\n",
    "print('Part 1 solution: '+str(num1*num3))"
   ]
  },
  {
   "cell_type": "code",
   "execution_count": 4,
   "metadata": {
    "tags": []
   },
   "outputs": [
    {
     "output_type": "stream",
     "name": "stdout",
     "text": [
      "[ 0  1  4  5  6  7 10 11 12 15 16 19 22]\n0\n0\n[1, 2, 3]\n[1]\n1\n[0 1]\n[0 1]\n1\n[2, 3, 4]\n[4]\n1\n[0 1 4]\n[0 1 4]\n4\n[5, 6, 7]\n[5 6 7]\n3\n[0 1 4 5]\n[0 1 4 5]\n5\n[6, 7, 8]\n[6 7]\n2\n[0 1 4 5 6]\n[0 1 4 5 6]\n6\n[7, 8, 9]\n[7]\n1\n[0 1 4 5 6 7]\n[0 1 4 5 6 7]\n7\n[8, 9, 10]\n[10]\n1\n[ 0  1  4  5  6  7 10]\n[ 0  1  4  5  6  7 10]\n10\n[11, 12, 13]\n[11 12]\n2\n[ 0  1  4  5  6  7 10 11]\n[ 0  1  4  5  6  7 10 11]\n11\n[12, 13, 14]\n[12]\n1\n[ 0  1  4  5  6  7 10 11 12]\n[ 0  1  4  5  6  7 10 11 12]\n12\n[13, 14, 15]\n[15]\n1\n[ 0  1  4  5  6  7 10 11 12 15]\n[ 0  1  4  5  6  7 10 11 12 15]\n15\n[16, 17, 18]\n[16]\n1\n[ 0  1  4  5  6  7 10 11 12 15 16]\n[ 0  1  4  5  6  7 10 11 12 15 16]\n16\n[17, 18, 19]\n[19]\n1\n[ 0  1  4  5  6  7 10 11 12 15 16 19]\n[ 0  1  4  5  6  7 10 11 12 15 16 19]\n19\n[20, 21, 22]\n[22]\n1\n[ 0  1  4  5  6  7 10 11 12 15 16 19 22]\n[ 0  1  4  5  6  7 10 11 12 15 16 19 22]\ndone\nPart 2 solution: 1\n"
     ]
    }
   ],
   "source": [
    "# Part 2\n",
    "\n",
    "# Naive idea: a depth-first search kind of thing? Go through the list, hope that its not too slow\n",
    " \n",
    "\n",
    "# stillSearch = True\n",
    "# curIndex = 0\n",
    "\n",
    "# allChains = []\n",
    "# curChain = []\n",
    "# while stillSearch:\n",
    "#     curVal = ar[curIndex]\n",
    "#     print(curVal)\n",
    "#     curChain = np.append(curChain,curVal)\n",
    "#     print(curChain)\n",
    "\n",
    "#     posVals = [curVal+1,curVal+2,curVal+3]\n",
    "#     posIndex = np.nonzero(np.in1d(ar,posVals))\n",
    "    \n",
    "#     print(ar[posIndex])\n",
    "\n",
    "#     curIndex = curIndex + 1\n",
    "    \n",
    "#     if (curIndex == len(ar)-1):\n",
    "#         stillSearch = False\n",
    "\n",
    "print(ar)\n",
    "curChain = ar[0:1]\n",
    "\n",
    "numFoundTotal = 0\n",
    "# Functionalize\n",
    "# def goDeeper(chain,curIndex):\n",
    "def goDeeper(chain,numFoundTotal):\n",
    "\n",
    "    curVal = chain[-1] \n",
    "    print(curVal)\n",
    "    posVals = [curVal+1,curVal+2,curVal+3]\n",
    "    print(posVals)\n",
    "    posIndex = np.nonzero(np.in1d(ar,posVals))[0]\n",
    "    print(ar[posIndex])\n",
    "    print(len(posIndex))\n",
    "\n",
    "    for k in range(0,len(posIndex)):\n",
    "        newChain = np.append(chain,ar[posIndex[k]])\n",
    "        print(newChain)\n",
    "\n",
    "        chain=newChain\n",
    "\n",
    "        print(chain)\n",
    "        if (chain[-1] == ar[-1]):\n",
    "            print('done')\n",
    "            numFoundTotal = numFoundTotal + 1\n",
    "            return(chain,numFoundTotal)\n",
    "        else:\n",
    "            chain,numFoundTotal = goDeeper(chain,numFoundTotal) \n",
    "            return(chain,numFoundTotal)\n",
    "\n",
    "    # if (len(posIndex) == 1):\n",
    "        \n",
    "    #     chain = np.append(chain,ar[posIndex])\n",
    "    #     # return(chain)\n",
    "    # if (len(posIndex) == 2):\n",
    "    #     newChains = []\n",
    "    #     chain1 = np.append(chain,ar[posIndex[0]])\n",
    "    #     chain2 = np.append(chain,ar[posIndex[1]])\n",
    "\n",
    "    #     newChains = np.append(newChains,[chain1])\n",
    "    #     newChains = np.append(newChains,[chain2])\n",
    "\n",
    "    #     print(newChains)\n",
    "    #     # return(chain1)\n",
    "    # if (len(posIndex) == 3):\n",
    "    #     newChains = []\n",
    "    #     chain1 = np.append(chain,ar[posIndex[0]])\n",
    "    #     chain2 = np.append(chain,ar[posIndex[1]])\n",
    "    #     chain3 = np.append(chain,ar[posIndex[2]])\n",
    "\n",
    "    #     newChains = np.append(newChains,[chain1])\n",
    "    #     newChains = np.append(newChains,[chain2])\n",
    "    #     newChains = np.append(newChains,[chain3])\n",
    "\n",
    "    #     print(newChains)\n",
    "        # return(chain1)\n",
    "\n",
    "print(numFoundTotal)\n",
    "curChain,numFoundTotal= goDeeper(curChain,numFoundTotal)\n",
    "# for k in range(0,10):\n",
    "    # curChain = goDeeper(curChain)\n",
    "    # print(curChain)\n",
    "# print(goDeeper(goDeeper(curChain)))\n",
    "print('Part 2 solution: '+str(numFoundTotal))"
   ]
  },
  {
   "cell_type": "code",
   "execution_count": 5,
   "metadata": {},
   "outputs": [],
   "source": [
    "# totCount = 1\n",
    "# print(ar[0:-6])\n",
    "# for k in range(0,len(ar)-7):    \n",
    "#     curVal = ar[k] \n",
    "#     print(curVal)\n",
    "#     posVals = [curVal+1,curVal+2,curVal+3]\n",
    "#     # print(posVals)\n",
    "#     posIndex = np.nonzero(np.in1d(ar,posVals))[0]\n",
    "    \n",
    "#     print('asdf'+str(len(posIndex)))\n",
    "#     # totCount = totCount * len(posIndex)\n",
    "#     totCount = totCount * len(posIndex)\n",
    "# print(totCount)"
   ]
  },
  {
   "cell_type": "code",
   "execution_count": 17,
   "metadata": {
    "tags": []
   },
   "outputs": [],
   "source": [
    "# curChain = ar[0:1]\n",
    "\n",
    "# def newFunc(index,numToAdd):\n",
    "\n",
    "#     # print('index '+str(index))\n",
    "#     curVal = ar[index]  \n",
    "#     print('curVal '+str(curVal))\n",
    "#     posVals = [curVal+1,curVal+2,curVal+3]\n",
    "#     print('posVals '+str(posVals))\n",
    "#     posIndex = np.nonzero(np.in1d(ar,posVals))[0]\n",
    "\n",
    "#     # print('posIndex '+str(posIndex))\n",
    "#     foundVals = ar[posIndex]\n",
    "#     print('foundVals '+str(foundVals))\n",
    "    \n",
    "#     # newChain = np.appendchain\n",
    "#     # newFunc(chain) \n",
    "#     for k in range(0,len(posIndex)):\n",
    "#         newFunc(posIndex[k],0)\n",
    "        \n",
    "\n",
    "\n",
    "# part2Solution = newFunc(0,0)"
   ]
  },
  {
   "cell_type": "code",
   "execution_count": 32,
   "metadata": {},
   "outputs": [
    {
     "output_type": "stream",
     "name": "stdout",
     "text": [
      "[ 0  5  6  7 10 11 12 15 16 19 22]\nFalse\n[ 0  4  6  7 10 11 12 15 16 19 22]\nFalse\n[ 0  4  5  7 10 11 12 15 16 19 22]\nFalse\n[ 0  4  5  6 10 11 12 15 16 19 22]\nFalse\n[ 0  4  5  6  7 11 12 15 16 19 22]\nFalse\n[ 0  4  5  6  7 10 12 15 16 19 22]\nFalse\n[ 0  4  5  6  7 10 11 15 16 19 22]\nFalse\n[ 0  4  5  6  7 10 11 12 16 19 22]\nFalse\n[ 0  4  5  6  7 10 11 12 15 19 22]\nFalse\n[ 0  4  5  6  7 10 11 12 15 16 22]\nFalse\n[ 0  5  6  7 10 11 12 15 16 19 22]\nFalse\n[ 0  1  6  7 10 11 12 15 16 19 22]\nFalse\n[ 0  1  5  7 10 11 12 15 16 19 22]\nFalse\n[ 0  1  5  6 10 11 12 15 16 19 22]\nFalse\n[ 0  1  5  6  7 11 12 15 16 19 22]\nFalse\n[ 0  1  5  6  7 10 12 15 16 19 22]\nFalse\n[ 0  1  5  6  7 10 11 15 16 19 22]\nFalse\n[ 0  1  5  6  7 10 11 12 16 19 22]\nFalse\n[ 0  1  5  6  7 10 11 12 15 19 22]\nFalse\n[ 0  1  5  6  7 10 11 12 15 16 22]\nFalse\n[ 0  4  6  7 10 11 12 15 16 19 22]\nFalse\n[ 0  1  6  7 10 11 12 15 16 19 22]\nFalse\n[ 0  1  4  7 10 11 12 15 16 19 22]\nTrue\n[ 0  1  4  6 10 11 12 15 16 19 22]\nFalse\n[ 0  1  4  6  7 11 12 15 16 19 22]\nFalse\n[ 0  1  4  6  7 10 12 15 16 19 22]\nTrue\n[ 0  1  4  6  7 10 11 15 16 19 22]\nFalse\n[ 0  1  4  6  7 10 11 12 16 19 22]\nFalse\n[ 0  1  4  6  7 10 11 12 15 19 22]\nFalse\n[ 0  1  4  6  7 10 11 12 15 16 22]\nFalse\n[ 0  4  5  7 10 11 12 15 16 19 22]\nFalse\n[ 0  1  5  7 10 11 12 15 16 19 22]\nFalse\n[ 0  1  4  7 10 11 12 15 16 19 22]\nTrue\n[ 0  1  4  5 10 11 12 15 16 19 22]\nFalse\n[ 0  1  4  5  7 11 12 15 16 19 22]\nFalse\n[ 0  1  4  5  7 10 12 15 16 19 22]\nTrue\n[ 0  1  4  5  7 10 11 15 16 19 22]\nFalse\n[ 0  1  4  5  7 10 11 12 16 19 22]\nFalse\n[ 0  1  4  5  7 10 11 12 15 19 22]\nFalse\n[ 0  1  4  5  7 10 11 12 15 16 22]\nFalse\n[ 0  4  5  6 10 11 12 15 16 19 22]\nFalse\n[ 0  1  5  6 10 11 12 15 16 19 22]\nFalse\n[ 0  1  4  6 10 11 12 15 16 19 22]\nFalse\n[ 0  1  4  5 10 11 12 15 16 19 22]\nFalse\n[ 0  1  4  5  6 11 12 15 16 19 22]\nFalse\n[ 0  1  4  5  6 10 12 15 16 19 22]\nFalse\n[ 0  1  4  5  6 10 11 15 16 19 22]\nFalse\n[ 0  1  4  5  6 10 11 12 16 19 22]\nFalse\n[ 0  1  4  5  6 10 11 12 15 19 22]\nFalse\n[ 0  1  4  5  6 10 11 12 15 16 22]\nFalse\n[ 0  4  5  6  7 11 12 15 16 19 22]\nFalse\n[ 0  1  5  6  7 11 12 15 16 19 22]\nFalse\n[ 0  1  4  6  7 11 12 15 16 19 22]\nFalse\n[ 0  1  4  5  7 11 12 15 16 19 22]\nFalse\n[ 0  1  4  5  6 11 12 15 16 19 22]\nFalse\n[ 0  1  4  5  6  7 12 15 16 19 22]\nFalse\n[ 0  1  4  5  6  7 11 15 16 19 22]\nFalse\n[ 0  1  4  5  6  7 11 12 16 19 22]\nFalse\n[ 0  1  4  5  6  7 11 12 15 19 22]\nFalse\n[ 0  1  4  5  6  7 11 12 15 16 22]\nFalse\n[ 0  4  5  6  7 10 12 15 16 19 22]\nFalse\n[ 0  1  5  6  7 10 12 15 16 19 22]\nFalse\n[ 0  1  4  6  7 10 12 15 16 19 22]\nTrue\n[ 0  1  4  5  7 10 12 15 16 19 22]\nTrue\n[ 0  1  4  5  6 10 12 15 16 19 22]\nFalse\n[ 0  1  4  5  6  7 12 15 16 19 22]\nFalse\n[ 0  1  4  5  6  7 10 15 16 19 22]\nFalse\n[ 0  1  4  5  6  7 10 12 16 19 22]\nFalse\n[ 0  1  4  5  6  7 10 12 15 19 22]\nFalse\n[ 0  1  4  5  6  7 10 12 15 16 22]\nFalse\n[ 0  4  5  6  7 10 11 15 16 19 22]\nFalse\n[ 0  1  5  6  7 10 11 15 16 19 22]\nFalse\n[ 0  1  4  6  7 10 11 15 16 19 22]\nFalse\n[ 0  1  4  5  7 10 11 15 16 19 22]\nFalse\n[ 0  1  4  5  6 10 11 15 16 19 22]\nFalse\n[ 0  1  4  5  6  7 11 15 16 19 22]\nFalse\n[ 0  1  4  5  6  7 10 15 16 19 22]\nFalse\n[ 0  1  4  5  6  7 10 11 16 19 22]\nFalse\n[ 0  1  4  5  6  7 10 11 15 19 22]\nFalse\n[ 0  1  4  5  6  7 10 11 15 16 22]\nFalse\n[ 0  4  5  6  7 10 11 12 16 19 22]\nFalse\n[ 0  1  5  6  7 10 11 12 16 19 22]\nFalse\n[ 0  1  4  6  7 10 11 12 16 19 22]\nFalse\n[ 0  1  4  5  7 10 11 12 16 19 22]\nFalse\n[ 0  1  4  5  6 10 11 12 16 19 22]\nFalse\n[ 0  1  4  5  6  7 11 12 16 19 22]\nFalse\n[ 0  1  4  5  6  7 10 12 16 19 22]\nFalse\n[ 0  1  4  5  6  7 10 11 16 19 22]\nFalse\n[ 0  1  4  5  6  7 10 11 12 19 22]\nFalse\n[ 0  1  4  5  6  7 10 11 12 16 22]\nFalse\n[ 0  4  5  6  7 10 11 12 15 19 22]\nFalse\n[ 0  1  5  6  7 10 11 12 15 19 22]\nFalse\n[ 0  1  4  6  7 10 11 12 15 19 22]\nFalse\n[ 0  1  4  5  7 10 11 12 15 19 22]\nFalse\n[ 0  1  4  5  6 10 11 12 15 19 22]\nFalse\n[ 0  1  4  5  6  7 11 12 15 19 22]\nFalse\n[ 0  1  4  5  6  7 10 12 15 19 22]\nFalse\n[ 0  1  4  5  6  7 10 11 15 19 22]\nFalse\n[ 0  1  4  5  6  7 10 11 12 19 22]\nFalse\n[ 0  1  4  5  6  7 10 11 12 15 22]\nFalse\n[ 0  4  5  6  7 10 11 12 15 16 22]\nFalse\n[ 0  1  5  6  7 10 11 12 15 16 22]\nFalse\n[ 0  1  4  6  7 10 11 12 15 16 22]\nFalse\n[ 0  1  4  5  7 10 11 12 15 16 22]\nFalse\n[ 0  1  4  5  6 10 11 12 15 16 22]\nFalse\n[ 0  1  4  5  6  7 11 12 15 16 22]\nFalse\n[ 0  1  4  5  6  7 10 12 15 16 22]\nFalse\n[ 0  1  4  5  6  7 10 11 15 16 22]\nFalse\n[ 0  1  4  5  6  7 10 11 12 16 22]\nFalse\n[ 0  1  4  5  6  7 10 11 12 15 22]\nFalse\n10\n"
     ]
    }
   ],
   "source": [
    "def checkChain(chain):\n",
    "    dif = chain[1:] - chain[0:-1]\n",
    "    # print(dif)\n",
    "    # print(dif>3) \n",
    "    if any(dif > 3):\n",
    "        return False\n",
    "    else:\n",
    "        return True\n",
    "\n",
    "\n",
    "numFound = 1\n",
    "# Remove 1\n",
    "for k in range(1,len(ar)-1):\n",
    "    newChain = np.append(ar[0:k],ar[k+1:])\n",
    "    if checkChain(newChain):\n",
    "        numFound = numFound + 1\n",
    "    # Remove 2\n",
    "    for j in range(1,len(newChain)-1):\n",
    "        newnewChain = np.append(newChain[0:j],newChain[j+1:])\n",
    "        print(newnewChain)\n",
    "        print(checkChain(newnewChain))\n",
    "        if checkChain(newnewChain):\n",
    "            numFound = numFound + 1\n",
    "print(numFound)"
   ]
  }
 ]
}