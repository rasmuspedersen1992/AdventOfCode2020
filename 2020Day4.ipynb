{
 "metadata": {
  "language_info": {
   "codemirror_mode": {
    "name": "ipython",
    "version": 3
   },
   "file_extension": ".py",
   "mimetype": "text/x-python",
   "name": "python",
   "nbconvert_exporter": "python",
   "pygments_lexer": "ipython3",
   "version": "3.8.5-final"
  },
  "orig_nbformat": 2,
  "kernelspec": {
   "name": "python3",
   "display_name": "Python 3"
  }
 },
 "nbformat": 4,
 "nbformat_minor": 2,
 "cells": [
  {
   "cell_type": "code",
   "execution_count": 70,
   "metadata": {},
   "outputs": [
    {
     "output_type": "stream",
     "name": "stdout",
     "text": [
      "Done loading input\n"
     ]
    }
   ],
   "source": [
    "import numpy as np\n",
    "\n",
    "# Load input\n",
    "filename = 'inputDay4.txt'\n",
    "# filename = 'inputDay4test.txt'\n",
    "# filename = 'inputDay4Invalid.txt'\n",
    "# filename = 'inputDay4Valid.txt'\n",
    "# curIn = np.loadtxt(filename)\n",
    "\n",
    "# Start by loading the data\n",
    "inputFile = open(filename)\n",
    "inputs = []\n",
    "inputs = [s for s in inputFile.read().splitlines()]\n",
    "ogInputs = inputs.copy()\n",
    "\n",
    "print('Done loading input')"
   ]
  },
  {
   "cell_type": "code",
   "execution_count": 71,
   "metadata": {
    "tags": []
   },
   "outputs": [
    {
     "output_type": "stream",
     "name": "stdout",
     "text": [
      "Part 1 solution: 245\n"
     ]
    }
   ],
   "source": [
    "# Part 1\n",
    "toFind = ['byr','iyr','eyr','hgt','hcl','ecl','pid']\n",
    "optiFind = ['cid']\n",
    "\n",
    "curP = []\n",
    "numP = 0\n",
    "numValid = 0\n",
    "\n",
    "# Add an extra '' to the end of the array, so the last one isn't skipped\n",
    "inputs = ogInputs.copy()\n",
    "inputs = np.append(inputs,'') \n",
    "\n",
    "for k in range(0,len(inputs)):\n",
    "\n",
    "    curLine = inputs[k]\n",
    "\n",
    "    if (curLine != ''):\n",
    "        curP = np.append(curP,curLine)\n",
    "    else:\n",
    "        numP = numP + 1\n",
    "\n",
    "        # Put passport together as one line\n",
    "        numLinesThis = len(curP)\n",
    "        oneLine = ''\n",
    "        for m in range(0,numLinesThis):\n",
    "            oneLine = oneLine + ' ' + curP[m]\n",
    "\n",
    "        # Check how many of the things to find are present\n",
    "        numFound = 0\n",
    "        for f in toFind:\n",
    "            if f in oneLine:\n",
    "                numFound = numFound + 1\n",
    "        if numFound == 7:\n",
    "            numValid = numValid+1\n",
    "        # Empty curP\n",
    "        curP = []\n",
    "\n",
    "print('Part 1 solution: '+str(numValid))"
   ]
  },
  {
   "cell_type": "code",
   "execution_count": 73,
   "metadata": {
    "tags": []
   },
   "outputs": [
    {
     "output_type": "stream",
     "name": "stdout",
     "text": [
      "Part 2 solution: 133\n"
     ]
    }
   ],
   "source": [
    "# Part 2: Need to be smarter with the inputs\n",
    "\n",
    "# Function for checking a field\n",
    "def checkField(data):\n",
    "    spli = data.split(':')\n",
    "    typ = spli[0]\n",
    "    val = spli[1]\n",
    "    \n",
    "    isValid = False\n",
    "    if (typ =='byr'):\n",
    "        year = int(val)\n",
    "        if (year >= 1920) and (year <= 2002):\n",
    "            isValid = True\n",
    "    elif (typ =='iyr'):\n",
    "        year = int(val)\n",
    "        if (year >= 2010) and (year <= 2020):\n",
    "            isValid = True\n",
    "    elif (typ =='eyr'):\n",
    "        year = int(val)\n",
    "        if (year >= 2020) and (year <= 2030):\n",
    "            isValid = True\n",
    "    elif (typ =='hgt'):\n",
    "        try:\n",
    "            curH = int(val[:-2])\n",
    "            unit = val[-2:]\n",
    "            \n",
    "            if (unit == 'cm'):\n",
    "                if ((curH >= 150) and (curH <=193)):\n",
    "                    isValid = True\n",
    "            elif (unit == 'in'):\n",
    "                if ((curH >= 59) and (curH <=76)):\n",
    "                    isValid = True\n",
    "        except:\n",
    "            isValud = False\n",
    "    elif (typ =='hcl'):\n",
    "        if (len(val) == 7):\n",
    "            hexVal = val[1:] \n",
    "            validChars = '0123456789abcdef'\n",
    "            if all(c in validChars for c in hexVal):\n",
    "                isValid = True\n",
    "                \n",
    "    elif (typ == 'ecl'):\n",
    "        if ((val == 'amb') or (val == 'blu') or (val == 'brn') or (val == 'gry') or (val == 'grn') or (val == 'hzl') or (val == 'oth')):\n",
    "            isValid = True\n",
    "\n",
    "    elif (typ == 'pid'):\n",
    "        if (len(val) == 9):\n",
    "            try:\n",
    "                int(val)\n",
    "                isValid = True\n",
    "            except:\n",
    "                isValid = False\n",
    "                \n",
    "\n",
    "    elif (typ == 'cid'):\n",
    "        isValid = True\n",
    "\n",
    "\n",
    "    return(isValid)\n",
    "\n",
    "\n",
    "\n",
    "##\n",
    "curP = []\n",
    "numP = 0\n",
    "numValid = 0\n",
    "\n",
    "for k in range(0,len(inputs)):\n",
    "\n",
    "    curLine = inputs[k]\n",
    "\n",
    "\n",
    "    if (curLine != ''):\n",
    "        curP = np.append(curP,curLine)\n",
    "    else:\n",
    "        numP = numP + 1\n",
    "\n",
    "        # Put passport together as one line\n",
    "        numLinesThis = len(curP)\n",
    "        oneLine = ''\n",
    "        for m in range(0,numLinesThis):\n",
    "            oneLine = oneLine + ' ' + curP[m]\n",
    "\n",
    "\n",
    "        # Check how many of the things to find are present\n",
    "        numFound = 0\n",
    "        for f in toFind:\n",
    "            if f in oneLine:\n",
    "                numFound = numFound + 1\n",
    "        if numFound >= 7:\n",
    "            # If at least seven fields are present\n",
    "            curSplit = oneLine.split(' ')[1:]\n",
    "            \n",
    "            allValid = True\n",
    "            for fie in curSplit:\n",
    "                \n",
    "                curValid = checkField(fie)\n",
    "                \n",
    "                if (curValid == False):\n",
    "                    allValid = False\n",
    "            if allValid:\n",
    "                numValid = numValid+1\n",
    "\n",
    "\n",
    "        # Empty curP\n",
    "        curP = []\n",
    "print('Part 2 solution: '+str(numValid))"
   ]
  }
 ]
}