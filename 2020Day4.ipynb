{
 "metadata": {
  "language_info": {
   "codemirror_mode": {
    "name": "ipython",
    "version": 3
   },
   "file_extension": ".py",
   "mimetype": "text/x-python",
   "name": "python",
   "nbconvert_exporter": "python",
   "pygments_lexer": "ipython3",
   "version": "3.8.5-final"
  },
  "orig_nbformat": 2,
  "kernelspec": {
   "name": "python3",
   "display_name": "Python 3"
  }
 },
 "nbformat": 4,
 "nbformat_minor": 2,
 "cells": [
  {
   "cell_type": "code",
   "execution_count": 44,
   "metadata": {},
   "outputs": [
    {
     "output_type": "stream",
     "name": "stdout",
     "text": [
      "Done loading input\n"
     ]
    }
   ],
   "source": [
    "import numpy as np\n",
    "\n",
    "# Load input\n",
    "filename = 'inputDay4.txt'\n",
    "# filename = 'inputDay4test.txt'\n",
    "# curIn = np.loadtxt(filename)\n",
    "\n",
    "# Start by loading the data\n",
    "inputFile = open(filename)\n",
    "inputs = []\n",
    "inputs = [s for s in inputFile.read().splitlines()]\n",
    "\n",
    "print('Done loading input')"
   ]
  },
  {
   "cell_type": "code",
   "execution_count": 46,
   "metadata": {
    "tags": []
   },
   "outputs": [
    {
     "output_type": "stream",
     "name": "stdout",
     "text": [
      "Part 1 solution: 245\n"
     ]
    }
   ],
   "source": [
    "# Part 1\n",
    "\n",
    "curP = []\n",
    "\n",
    "numP = 0\n",
    "numValid = 0\n",
    "for k in range(0,len(inputs)):\n",
    "    # print(k)\n",
    "    curLine = inputs[k]\n",
    "    # print(curLine)\n",
    "\n",
    "\n",
    "    if (curLine != ''):\n",
    "        curP = np.append(curP,curLine)\n",
    "    else:\n",
    "        numP = numP + 1\n",
    "\n",
    "        # Check for things\n",
    "        toFind = ['byr','iyr','eyr','hgt','hcl','ecl','pid']\n",
    "        optiFind = ['cid']\n",
    "\n",
    "        numLinesThis = len(curP)\n",
    "        # print(numLinesThis)\n",
    "        oneLine = ''\n",
    "        for m in range(0,numLinesThis):\n",
    "            oneLine = oneLine + ' ' + curP[m]\n",
    "        # print(oneLine)\n",
    "\n",
    "        numFound = 0\n",
    "        for f in toFind:\n",
    "            # print(f in oneLine)\n",
    "            if f in oneLine:\n",
    "                # print(f + ' was found')\n",
    "                numFound = numFound + 1\n",
    "        # print(numFound)\n",
    "        # if numFound == len(toFind):\n",
    "        if numFound == 7:\n",
    "            numValid = numValid+1\n",
    "        # Empty curP\n",
    "        curP = []\n",
    "\n",
    "# Stupid hack: Also check the last\n",
    "# Check for things\n",
    "toFind = ['byr','iyr','eyr','hgt','hcl','ecl','pid']\n",
    "optiFind = ['cid']\n",
    "\n",
    "numLinesThis = len(curP)\n",
    "# print(numLinesThis)\n",
    "oneLine = ''\n",
    "for m in range(0,numLinesThis):\n",
    "    oneLine = oneLine + ' ' + curP[m]\n",
    "# print(oneLine)\n",
    "\n",
    "numFound = 0\n",
    "for f in toFind:\n",
    "    # print(f in oneLine)\n",
    "    if f in oneLine:\n",
    "        # print(f + ' was found')\n",
    "        numFound = numFound + 1\n",
    "# print(numFound)\n",
    "# if numFound == len(toFind):\n",
    "if numFound == 7:\n",
    "    numValid = numValid+1\n",
    "\n",
    "#\n",
    "print('Part 1 solution: '+str(numValid))"
   ]
  },
  {
   "cell_type": "code",
   "execution_count": null,
   "metadata": {},
   "outputs": [],
   "source": []
  }
 ]
}