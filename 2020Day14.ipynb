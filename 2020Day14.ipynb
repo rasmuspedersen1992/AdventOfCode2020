{
 "metadata": {
  "language_info": {
   "codemirror_mode": {
    "name": "ipython",
    "version": 3
   },
   "file_extension": ".py",
   "mimetype": "text/x-python",
   "name": "python",
   "nbconvert_exporter": "python",
   "pygments_lexer": "ipython3",
   "version": "3.8.5-final"
  },
  "orig_nbformat": 2,
  "kernelspec": {
   "name": "python3",
   "display_name": "Python 3"
  }
 },
 "nbformat": 4,
 "nbformat_minor": 2,
 "cells": [
  {
   "cell_type": "code",
   "execution_count": 1,
   "metadata": {},
   "outputs": [
    {
     "output_type": "stream",
     "name": "stdout",
     "text": [
      "Done loading input\n"
     ]
    }
   ],
   "source": [
    "import numpy as np\n",
    "\n",
    "# Load input\n",
    "filename = 'inputDay14.txt'\n",
    "# filename = 'inputDay14test.txt'\n",
    "# filename = 'inputDay14test2.txt'\n",
    "# curIn = np.loadtxt(filename)\n",
    "\n",
    "# Start by loading the data\n",
    "inputFile = open(filename)\n",
    "inputs = []\n",
    "inputs = [s for s in inputFile.read().splitlines()]\n",
    "\n",
    "print('Done loading input')"
   ]
  },
  {
   "cell_type": "code",
   "execution_count": 2,
   "metadata": {
    "tags": []
   },
   "outputs": [
    {
     "output_type": "stream",
     "name": "stdout",
     "text": [
      "Part 1 solution: 9879607673316\n"
     ]
    }
   ],
   "source": [
    "# Part 1\n",
    "\n",
    "curMem = {}\n",
    "for k in range(0,len(inputs)):\n",
    "    curL = inputs[k]\n",
    "    curLS = curL.split(' = ')\n",
    "\n",
    "    # Set the mask if mask is specified\n",
    "    if (curLS[0] == 'mask'):\n",
    "        curMask = curLS[1]\n",
    "        maskLen = len(curMask)\n",
    "    # If not, set memory\n",
    "    else:\n",
    "        curMemId = int(curLS[0][4:-1])\n",
    "        curVal = int(curLS[1])\n",
    "        curBin = bin(curVal)\n",
    "        curBinStr = str(curBin)[2:]\n",
    "        curBinStr = curBinStr.zfill(36)\n",
    "        \n",
    "        newStr = ''\n",
    "        for strId in range(0,len(curBinStr)):\n",
    "            \n",
    "            thisMaskVal = curMask[strId]\n",
    "            if thisMaskVal == '1':\n",
    "                newStr = newStr + '1'\n",
    "            elif thisMaskVal == '0':\n",
    "                newStr = newStr + '0'\n",
    "            else:\n",
    "                newStr = newStr + curBinStr[strId]\n",
    "        \n",
    "        # Convert values back to binary\n",
    "        newVal = int(newStr,2)\n",
    "        \n",
    "        # Set the value in the memory\n",
    "        curMem[curMemId] = newVal\n",
    "\n",
    "\n",
    "curVals = curMem.values()\n",
    "part1sol = sum(curVals)\n",
    "print(f'Part 1 solution: {part1sol}')"
   ]
  },
  {
   "cell_type": "code",
   "execution_count": 3,
   "metadata": {},
   "outputs": [
    {
     "output_type": "execute_result",
     "data": {
      "text/plain": [
       "array(['000000000000000000000000000000011010',\n",
       "       '000000000000000000000000000000011011',\n",
       "       '000000000000000000000000000000111010',\n",
       "       '000000000000000000000000000000111011'], dtype='<U36')"
      ]
     },
     "metadata": {},
     "execution_count": 3
    }
   ],
   "source": [
    "def func(curStr,fullStr,ind):\n",
    "    \n",
    "    nextInd = ind+1\n",
    "    \n",
    "    if (fullStr[ind] == '1'):\n",
    "        curStr = curStr + '1'\n",
    "        \n",
    "        if len(fullStr) > nextInd:\n",
    "            \n",
    "            curStr = func(curStr,fullStr,nextInd)\n",
    "        return curStr\n",
    "    elif (fullStr[ind] == '0'):\n",
    "        curStr = curStr + '0'\n",
    "        \n",
    "        \n",
    "        if len(fullStr) > nextInd:\n",
    "            \n",
    "            curStr = func(curStr,fullStr,ind+1)\n",
    "        return curStr\n",
    "    elif (fullStr[ind] == 'X'):\n",
    "        curStr0 = curStr + '0'\n",
    "        curStr1 = curStr + '1'\n",
    "        if len(fullStr) > nextInd:\n",
    "            \n",
    "            out0 = func(curStr0,fullStr,nextInd)\n",
    "            out1 = func(curStr1,fullStr,nextInd)\n",
    "        else:\n",
    "            out0 = curStr0 \n",
    "            out1 = curStr1\n",
    "        strAr = []\n",
    "        strAr = np.append(strAr,out0)\n",
    "        strAr = np.append(strAr,out1)\n",
    "        return strAr\n",
    "\n",
    "# testStr = 'X1X0'\n",
    "# func('',testStr,0)\n",
    "# testMask = '000000000000000000000000000000X1001X'\n",
    "testStr =  '000000000000000000000000000000X1101X'\n",
    "# testStr =  '0000000X1101X'\n",
    "# outAr = func('',testStr+'0',0)\n",
    "# for k in range(0,outAr)\n",
    "func('',testStr,0)\n"
   ]
  },
  {
   "cell_type": "code",
   "execution_count": 5,
   "metadata": {
    "tags": []
   },
   "outputs": [
    {
     "output_type": "stream",
     "name": "stdout",
     "text": [
      "Part 2 solution: 3435342392262\n"
     ]
    }
   ],
   "source": [
    "# Part 2\n",
    "mem2 = {}\n",
    "for k in range(0,len(inputs)):\n",
    "    curL = inputs[k]\n",
    "    curLS = curL.split(' = ')\n",
    "\n",
    "    # Set the mask if mask is specified\n",
    "    if (curLS[0] == 'mask'):\n",
    "        curMask = curLS[1]\n",
    "        maskLen = len(curMask)\n",
    "    # If not, set memory\n",
    "    else:\n",
    "        curMemId = int(curLS[0][4:-1])\n",
    "        curVal = int(curLS[1])\n",
    "\n",
    "        curBin = bin(curMemId)\n",
    "        curBinStr = str(curBin)[2:]\n",
    "        curBinStr = curBinStr.zfill(36)\n",
    "        \n",
    "        newStr = ''\n",
    "        for strId in range(0,len(curBinStr)):\n",
    "            \n",
    "            thisMaskVal = curMask[strId]\n",
    "            if thisMaskVal == '1':\n",
    "                newStr = newStr + '1'\n",
    "            elif thisMaskVal == '0':\n",
    "                newStr = newStr + curBinStr[strId]\n",
    "            else:\n",
    "                newStr = newStr + 'X'\n",
    "\n",
    "        \n",
    "        # Use function to find memories to update\n",
    "        toUpdate = func('',newStr,0)\n",
    "        for memId in range(0,len(toUpdate)):\n",
    "            newMemId = toUpdate[memId]\n",
    "\n",
    "            # Convert values back to binary\n",
    "            memIndexInt = int(newMemId,2)\n",
    "            \n",
    "            \n",
    "            # Set the value in the memory\n",
    "            mem2[memIndexInt] = curVal\n",
    "            \n",
    "\n",
    "\n",
    "curVals = mem2.values()\n",
    "part2sol = sum(curVals)\n",
    "print(f'Part 2 solution: {part2sol}')"
   ]
  }
 ]
}