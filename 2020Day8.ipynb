{
 "metadata": {
  "language_info": {
   "codemirror_mode": {
    "name": "ipython",
    "version": 3
   },
   "file_extension": ".py",
   "mimetype": "text/x-python",
   "name": "python",
   "nbconvert_exporter": "python",
   "pygments_lexer": "ipython3",
   "version": "3.8.5-final"
  },
  "orig_nbformat": 2,
  "kernelspec": {
   "name": "python3",
   "display_name": "Python 3"
  }
 },
 "nbformat": 4,
 "nbformat_minor": 2,
 "cells": [
  {
   "cell_type": "code",
   "execution_count": 81,
   "metadata": {},
   "outputs": [
    {
     "output_type": "stream",
     "name": "stdout",
     "text": [
      "Done loading input\n"
     ]
    }
   ],
   "source": [
    "import numpy as np\n",
    "\n",
    "# Load input\n",
    "filename = 'inputDay8.txt'\n",
    "# filename = 'inputDay8test.txt'\n",
    "# curIn = np.loadtxt(filename)\n",
    "\n",
    "# Start by loading the data\n",
    "inputFile = open(filename)\n",
    "inputs = []\n",
    "inputs = [s for s in inputFile.read().splitlines()]\n",
    "\n",
    "print('Done loading input')"
   ]
  },
  {
   "cell_type": "code",
   "execution_count": 89,
   "metadata": {},
   "outputs": [],
   "source": [
    "def readLine(curLine):\n",
    "    toJump = 0\n",
    "    toAdd  = 0\n",
    "\n",
    "    cmd = curLine[0:3]\n",
    "    val = int(curLine[3:])\n",
    "\n",
    "    if (cmd == 'nop'):\n",
    "        toJump = 1\n",
    "    elif (cmd == 'acc'):\n",
    "        toJump = 1\n",
    "        toAdd = val\n",
    "    elif (cmd == 'jmp'):\n",
    "        toJump = val\n",
    "\n",
    "    return toJump,toAdd\n"
   ]
  },
  {
   "cell_type": "code",
   "execution_count": 91,
   "metadata": {
    "tags": []
   },
   "outputs": [
    {
     "output_type": "stream",
     "name": "stdout",
     "text": [
      "Part 1 solution: 1331\n"
     ]
    }
   ],
   "source": [
    "# Part 1 \n",
    "accu = 0\n",
    "visited = []\n",
    "curIndex = 0\n",
    "valFound = False\n",
    "\n",
    "while (valFound == False):\n",
    "\n",
    "    # Check if loop should stop\n",
    "    for val in visited:\n",
    "        if (val == curIndex):\n",
    "            valFound = True\n",
    "    \n",
    "    # Added to visited array\n",
    "    visited = np.append(visited,curIndex)\n",
    "    \n",
    "    # Interpret line\n",
    "    curL = inputs[curIndex]\n",
    "    toJump,toAdd = readLine(curL)\n",
    "\n",
    "    # Change index\n",
    "    curIndex = curIndex + toJump\n",
    "\n",
    "    # Update accumulator\n",
    "    accu = accu + toAdd\n",
    "    \n",
    "print('Part 1 solution: '+str(accu))"
   ]
  },
  {
   "cell_type": "code",
   "execution_count": 92,
   "metadata": {},
   "outputs": [
    {
     "output_type": "stream",
     "name": "stdout",
     "text": [
      "Part 2 solution: 1121\n"
     ]
    }
   ],
   "source": [
    "# Part 2: Change one jmp to nop or one nop to jmp and run the program to completition. Print the accu\n",
    "\n",
    "# Make a function for the interpretation\n",
    "def interpretInput(inputArray):\n",
    "\n",
    "    accu = 0\n",
    "    visited = []\n",
    "    curIndex = 0\n",
    "    valFound = False\n",
    "    reachedEnd = False\n",
    "    curLen = len(inputArray)\n",
    "\n",
    "    while (valFound == False):\n",
    "\n",
    "        # Check if loop should stop\n",
    "        for val in visited:\n",
    "            if (val == curIndex):\n",
    "                # print('Found!')\n",
    "                valFound = True\n",
    "        \n",
    "        # Added to visited array\n",
    "        visited = np.append(visited,curIndex)\n",
    "        \n",
    "        # Interpret line\n",
    "        curL = inputArray[curIndex]\n",
    "        toJump,toAdd = readLine(curL)\n",
    "\n",
    "        # Change index\n",
    "        curIndex = curIndex + toJump\n",
    "\n",
    "        # Update accumulator\n",
    "        accu = accu + toAdd\n",
    "\n",
    "        # Check if end of code was reached\n",
    "        if (curIndex == curLen):\n",
    "            reachedEnd = True\n",
    "            valFound = True\n",
    "    # print(accu)\n",
    "    return accu,reachedEnd\n",
    "    \n",
    "\n",
    "# Plan: Go through each line one at a time and chance it, then run the code\n",
    "for k in range(0,len(inputs)):\n",
    "    # Get a copy\n",
    "    curInputs = inputs.copy()\n",
    "\n",
    "    # Change one command\n",
    "    if (inputs[k][0:3] == 'nop'):\n",
    "        curInputs[k] = 'jmp'+ inputs[k][3:]\n",
    "    elif (inputs[k][0:3] == 'jmp'):\n",
    "        curInputs[k] = 'nop'+ inputs[k][3:]\n",
    "\n",
    "    # Test the current code\n",
    "    accu,reachedEnd = interpretInput(curInputs)\n",
    "    \n",
    "    # If it reached the end, it is the correct solution\n",
    "    if reachedEnd:\n",
    "        print('Part 2 solution: '+str(accu))\n"
   ]
  }
 ]
}