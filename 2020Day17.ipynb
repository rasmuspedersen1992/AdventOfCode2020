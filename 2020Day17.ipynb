{
 "metadata": {
  "language_info": {
   "codemirror_mode": {
    "name": "ipython",
    "version": 3
   },
   "file_extension": ".py",
   "mimetype": "text/x-python",
   "name": "python",
   "nbconvert_exporter": "python",
   "pygments_lexer": "ipython3",
   "version": "3.8.5-final"
  },
  "orig_nbformat": 2,
  "kernelspec": {
   "name": "python3",
   "display_name": "Python 3",
   "language": "python"
  }
 },
 "nbformat": 4,
 "nbformat_minor": 2,
 "cells": [
  {
   "cell_type": "code",
   "execution_count": 71,
   "metadata": {},
   "outputs": [
    {
     "output_type": "stream",
     "name": "stdout",
     "text": [
      "Done loading input\n"
     ]
    }
   ],
   "source": [
    "import numpy as np\n",
    "\n",
    "# Load input\n",
    "filename = 'inputDay17.txt'\n",
    "# filename = 'inputDay17test.txt'\n",
    "# curIn = np.loadtxt(filename)\n",
    "\n",
    "# Start by loading the data\n",
    "inputFile = open(filename)\n",
    "inputs = []\n",
    "inputs = [s for s in inputFile.read().splitlines()]\n",
    "\n",
    "print('Done loading input')"
   ]
  },
  {
   "cell_type": "code",
   "execution_count": 72,
   "metadata": {},
   "outputs": [],
   "source": [
    "# Get the initial state\n",
    "H = len(inputs)\n",
    "W = len(inputs[0])\n",
    "D = 1\n",
    "curS = np.zeros((H,W,D))\n",
    "\n",
    "z = D\n",
    "for x in range(0,W):\n",
    "    for y in range(0,H):\n",
    "        if (inputs[x][y] == '#'):\n",
    "            curS[x,y,0] = 1\n",
    "\n",
    "ogS = curS.copy()"
   ]
  },
  {
   "cell_type": "code",
   "execution_count": 73,
   "metadata": {},
   "outputs": [
    {
     "output_type": "stream",
     "name": "stdout",
     "text": [
      "Initial state:\n[[1. 0. 0. 0. 0. 1. 0. 1.]\n [0. 0. 1. 1. 0. 1. 1. 0.]\n [1. 0. 0. 1. 0. 0. 1. 0.]\n [0. 1. 0. 0. 1. 0. 0. 1.]\n [0. 1. 0. 0. 1. 0. 0. 0.]\n [1. 1. 0. 1. 1. 1. 1. 1.]\n [1. 0. 0. 1. 0. 0. 1. 0.]\n [1. 1. 0. 1. 1. 0. 0. 1.]]\n"
     ]
    }
   ],
   "source": [
    "print('Initial state:')\n",
    "for z in range(0,D): \n",
    "    print(curS[:,:,z])"
   ]
  },
  {
   "cell_type": "code",
   "execution_count": 62,
   "metadata": {},
   "outputs": [],
   "source": [
    "def padStateWithZeros(state):\n",
    "    H,W,D = np.shape(curS)\n",
    "    newH = H + 2\n",
    "    newW = W + 2\n",
    "    newD = D + 2\n",
    "    \n",
    "    newState = np.zeros((newH,newW,newD))\n",
    "\n",
    "    # for x in range(0,newH):\n",
    "    #     for y in range(0,newW):\n",
    "    #         for z in range(0,newD):\n",
    "    for x in range(0,H):\n",
    "        for y in range(0,W):\n",
    "            for z in range(0,D):\n",
    "                if (curS[x,y,z] == 1):\n",
    "                    newState[x+1,y+1,z+1] = 1\n",
    "    return newState\n",
    "\n",
    "\n",
    "newS = padStateWithZeros(curS)\n"
   ]
  },
  {
   "cell_type": "code",
   "execution_count": 63,
   "metadata": {},
   "outputs": [],
   "source": [
    "\n",
    "curS = ogS.copy()\n",
    "\n",
    "numCycles = 6\n",
    "for k in range(0,numCycles):\n",
    "    newS = padStateWithZeros(curS)\n",
    "    # One simulation\n",
    "    curS = newS \n",
    "    H,W,D = np.shape(curS)\n",
    "    neiArray = np.zeros((H,W,D))\n",
    "    for x in range(1,H-1):\n",
    "        for y in range(1,W-1):\n",
    "            for z in range(1,D-1):\n",
    "\n",
    "                if (curS[x,y,z] == 1):\n",
    "                    \n",
    "                    for nX in range(-1,2):\n",
    "                        for nY in range(-1,2):\n",
    "                            for nZ in range(-1,2):\n",
    "                                neiArray[x+nX,y+nY,z+nZ] = neiArray[x+nX,y+nY,z+nZ] + 1\n",
    "                    # Remove one, so it doesn't count itself\n",
    "                    neiArray[x,y,z] = neiArray[x,y,z] - 1\n",
    "\n",
    "    updS = np.zeros((H,W,D))\n",
    "    for x in range(0,H):\n",
    "        for y in range(0,W):\n",
    "            for z in range(0,D):\n",
    "                # If a cube is active and exactly 2 or 3 of its neighbors are also active, the cube remains active. Otherwise, the cube becomes inactive.\n",
    "                # If a cube is inactive but exactly 3 of its neighbors are active, the cube becomes active. Otherwise, the cube remains inactive.\n",
    "                if (curS[x,y,z] == 1):\n",
    "                    if ((neiArray[x,y,z] == 2) | (neiArray[x,y,z] == 3)):\n",
    "                        updS[x,y,z] = 1\n",
    "                else:\n",
    "                    if (neiArray[x,y,z] == 3):\n",
    "                        updS[x,y,z] = 1\n",
    "    curS = updS"
   ]
  },
  {
   "cell_type": "code",
   "execution_count": 65,
   "metadata": {},
   "outputs": [
    {
     "output_type": "stream",
     "name": "stdout",
     "text": [
      "Part 1 solution: 322\n"
     ]
    }
   ],
   "source": [
    "numCubes = 0\n",
    "for x in range(0,H):\n",
    "    for y in range(0,W):\n",
    "        for z in range(0,D):\n",
    "            if (curS[x,y,z] == 1):\n",
    "                numCubes = numCubes + 1\n",
    "print(f'Part 1 solution: {numCubes}')"
   ]
  },
  {
   "source": [
    "# Part 2: 4D instead of 3D"
   ],
   "cell_type": "markdown",
   "metadata": {}
  },
  {
   "cell_type": "code",
   "execution_count": 66,
   "metadata": {},
   "outputs": [
    {
     "output_type": "stream",
     "name": "stdout",
     "text": [
      "(8, 8, 1, 1)\n"
     ]
    }
   ],
   "source": [
    "# Get the initial state\n",
    "H = len(inputs)\n",
    "W = len(inputs[0])\n",
    "D = 1\n",
    "F = 1\n",
    "curS = np.zeros((H,W,D,F))\n",
    "\n",
    "for x in range(0,W):\n",
    "    for y in range(0,H):\n",
    "        if (inputs[x][y] == '#'):\n",
    "            curS[x,y,0,0] = 1\n",
    "\n",
    "ogS = curS.copy()"
   ]
  },
  {
   "cell_type": "code",
   "execution_count": 67,
   "metadata": {},
   "outputs": [],
   "source": [
    "def padStateWithZeros4D(state):\n",
    "    H,W,D,F = np.shape(curS)\n",
    "    newH = H + 2\n",
    "    newW = W + 2\n",
    "    newD = D + 2\n",
    "    newF = F + 2\n",
    "    \n",
    "    newState = np.zeros((newH,newW,newD,newF))\n",
    "\n",
    "    # for x in range(0,newH):\n",
    "    #     for y in range(0,newW):\n",
    "    #         for z in range(0,newD):\n",
    "    for x in range(0,H):\n",
    "        for y in range(0,W):\n",
    "            for z in range(0,D):\n",
    "                for q in range(0,F):\n",
    "                    if (curS[x,y,z,q] == 1):\n",
    "                        newState[x+1,y+1,z+1,q+1] = 1\n",
    "    return newState\n",
    "\n",
    "\n",
    "newS = padStateWithZeros4D(curS)"
   ]
  },
  {
   "cell_type": "code",
   "execution_count": 68,
   "metadata": {},
   "outputs": [],
   "source": [
    "\n",
    "curS = ogS.copy()\n",
    "\n",
    "numCycles = 6\n",
    "for k in range(0,numCycles):\n",
    "    newS = padStateWithZeros4D(curS)\n",
    "    # One simulation\n",
    "    curS = newS \n",
    "    H,W,D,F = np.shape(curS)\n",
    "    neiArray = np.zeros((H,W,D,F))\n",
    "    for x in range(1,H-1):\n",
    "        for y in range(1,W-1):\n",
    "            for z in range(1,D-1):\n",
    "                for q in range(1,F-1):\n",
    "\n",
    "                    if (curS[x,y,z,q] == 1):\n",
    "                        \n",
    "                        for nX in range(-1,2):\n",
    "                            for nY in range(-1,2):\n",
    "                                for nZ in range(-1,2):\n",
    "                                    for nQ in range(-1,2):\n",
    "                                    \n",
    "                                        neiArray[x+nX,y+nY,z+nZ,q+nQ] = neiArray[x+nX,y+nY,z+nZ,q+nQ] + 1\n",
    "                        # Remove one, so it doesn't count itself\n",
    "                        neiArray[x,y,z,q] = neiArray[x,y,z,q] - 1\n",
    "\n",
    "    updS = np.zeros((H,W,D,F))\n",
    "    for x in range(0,H):\n",
    "        for y in range(0,W):\n",
    "            for z in range(0,D):\n",
    "                for q in range(0,F):\n",
    "                    # If a cube is active and exactly 2 or 3 of its neighbors are also active, the cube remains active. Otherwise, the cube becomes inactive.\n",
    "                    # If a cube is inactive but exactly 3 of its neighbors are active, the cube becomes active. Otherwise, the cube remains inactive.\n",
    "                    if (curS[x,y,z,q] == 1):\n",
    "                        if ((neiArray[x,y,z,q] == 2) | (neiArray[x,y,z,q] == 3)):\n",
    "                            updS[x,y,z,q] = 1\n",
    "                    else:\n",
    "                        if (neiArray[x,y,z,q] == 3):\n",
    "                            updS[x,y,z,q] = 1\n",
    "    curS = updS"
   ]
  },
  {
   "cell_type": "code",
   "execution_count": 69,
   "metadata": {},
   "outputs": [
    {
     "output_type": "stream",
     "name": "stdout",
     "text": [
      "Part 2 solution: 2000\n"
     ]
    }
   ],
   "source": [
    "numCubes = 0\n",
    "for x in range(0,H):\n",
    "    for y in range(0,W):\n",
    "        for z in range(0,D):\n",
    "            for q in range(0,F):\n",
    "                if (curS[x,y,z,q] == 1):\n",
    "                    numCubes = numCubes + 1\n",
    "print(f'Part 2 solution: {numCubes}')"
   ]
  }
 ]
}