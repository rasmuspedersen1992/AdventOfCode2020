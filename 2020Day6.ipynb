{
 "metadata": {
  "language_info": {
   "codemirror_mode": {
    "name": "ipython",
    "version": 3
   },
   "file_extension": ".py",
   "mimetype": "text/x-python",
   "name": "python",
   "nbconvert_exporter": "python",
   "pygments_lexer": "ipython3",
   "version": "3.8.5-final"
  },
  "orig_nbformat": 2,
  "kernelspec": {
   "name": "python3",
   "display_name": "Python 3"
  }
 },
 "nbformat": 4,
 "nbformat_minor": 2,
 "cells": [
  {
   "cell_type": "code",
   "execution_count": 52,
   "metadata": {},
   "outputs": [
    {
     "output_type": "stream",
     "name": "stdout",
     "text": [
      "Done loading input\n"
     ]
    }
   ],
   "source": [
    "import numpy as np\n",
    "\n",
    "# Load input\n",
    "filename = 'inputDay6.txt'\n",
    "# filename = 'inputDay6test.txt'\n",
    "# curIn = np.loadtxt(filename)\n",
    "\n",
    "# Start by loading the data\n",
    "inputFile = open(filename)\n",
    "inputs = []\n",
    "inputs = [s for s in inputFile.read().splitlines()]\n",
    "\n",
    "print('Done loading input')"
   ]
  },
  {
   "cell_type": "code",
   "execution_count": 53,
   "metadata": {},
   "outputs": [],
   "source": [
    "ogInputs = inputs"
   ]
  },
  {
   "cell_type": "code",
   "execution_count": 54,
   "metadata": {},
   "outputs": [
    {
     "output_type": "stream",
     "name": "stdout",
     "text": [
      "Part 1 solution: 6809\n"
     ]
    }
   ],
   "source": [
    "# Part 1\n",
    "# Add an extra '' to the end of the array, so the last one isn't skipped\n",
    "inputs = ogInputs.copy()\n",
    "inputs = np.append(inputs,'') \n",
    "\n",
    "\n",
    "curGroup = ''\n",
    "\n",
    "part1sol = 0 \n",
    "\n",
    "for k in range(0,len(inputs)):\n",
    "    # Get current passenger\n",
    "    curLine = inputs[k]\n",
    "\n",
    "    # If not next group\n",
    "    if (curLine != ''):\n",
    "        # Append to group list\n",
    "        curGroup = curGroup+curLine\n",
    "    else:\n",
    "        # Remove duplicates\n",
    "        curUniqueVals = ''.join(set(curGroup))\n",
    "        # Get number of letters left\n",
    "        curUniqueNum = len(curUniqueVals)\n",
    "        # Add to solution\n",
    "        part1sol = part1sol + curUniqueNum\n",
    "        # Reset the group to move to next group\n",
    "        curGroup = ''\n",
    "\n",
    "print('Part 1 solution: '+str(part1sol))"
   ]
  },
  {
   "cell_type": "code",
   "execution_count": 55,
   "metadata": {},
   "outputs": [
    {
     "output_type": "stream",
     "name": "stdout",
     "text": [
      "Part 1 solution: 3394\n"
     ]
    }
   ],
   "source": [
    "# Part 2\n",
    "\n",
    "curGroup = ''\n",
    "\n",
    "part2sol = 0 \n",
    "newGroup = True\n",
    "for k in range(0,len(inputs)):\n",
    "    # Get current passenger\n",
    "    curLine = inputs[k]\n",
    "\n",
    "    # For a new group, use the list of the first person \n",
    "    if (newGroup):\n",
    "        curGroup = curLine\n",
    "        newGroup = False\n",
    "\n",
    "    # If not next group\n",
    "    if (curLine != ''):\n",
    "\n",
    "        out = ''\n",
    "        # Check the groups list with the list of the current person\n",
    "        for x in range(0,len(curGroup)):\n",
    "            curX = curGroup[x]\n",
    "            for y in range(0,len(curLine)):\n",
    "                curY = curLine[y]\n",
    "                if (curY == curX):\n",
    "                    out = out + curY\n",
    "        curGroup = out\n",
    "        \n",
    "    else:\n",
    "        newGroup = True \n",
    "        part2sol = part2sol + len(curGroup)\n",
    "        # Reset the group to move to next group\n",
    "        curGroup = ''\n",
    "\n",
    "print('Part 1 solution: '+str(part2sol))"
   ]
  },
  {
   "cell_type": "code",
   "execution_count": null,
   "metadata": {},
   "outputs": [],
   "source": []
  }
 ]
}