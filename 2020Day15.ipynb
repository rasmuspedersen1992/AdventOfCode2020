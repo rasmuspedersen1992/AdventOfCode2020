{
 "metadata": {
  "language_info": {
   "codemirror_mode": {
    "name": "ipython",
    "version": 3
   },
   "file_extension": ".py",
   "mimetype": "text/x-python",
   "name": "python",
   "nbconvert_exporter": "python",
   "pygments_lexer": "ipython3",
   "version": "3.8.5-final"
  },
  "orig_nbformat": 2,
  "kernelspec": {
   "name": "python3",
   "display_name": "Python 3",
   "language": "python"
  }
 },
 "nbformat": 4,
 "nbformat_minor": 2,
 "cells": [
  {
   "cell_type": "code",
   "execution_count": 29,
   "metadata": {},
   "outputs": [],
   "source": [
    "# Day 15\n",
    "import numpy as np\n",
    "\n",
    "orgList = [0,3,6]\n",
    "# orgList = [1,3,2] \n",
    "orgList = [3,1,2]\n",
    "orgList = [18,8,0,5,4,1,20]"
   ]
  },
  {
   "cell_type": "code",
   "execution_count": 30,
   "metadata": {
    "tags": []
   },
   "outputs": [],
   "source": [
    "# # Part 1\n",
    "# curList = orgList\n",
    "# maxVal = 2025\n",
    "# for k in range(len(curList),maxVal):\n",
    "#     # print(f'k: {k+1}')\n",
    "#     # print(curList)\n",
    "#     lastNum = curList[k-1]\n",
    "#     # print(f'curNumber: {lastNum}')\n",
    "\n",
    "#     timesFound = 0\n",
    "#     prevTimeInList = 0\n",
    "#     for j in range(0,k-1):\n",
    "#         # print(curList[j])\n",
    "#         if (curList[j] == lastNum):\n",
    "#             # print(f'found {lastNum} at place {j}')\n",
    "#             timesFound = timesFound + 1\n",
    "#             prevTimeInList = k-j-1\n",
    "#     # print(f'Prevtimeinlist: {prevTimeInList}')\n",
    "#     curList = np.append(curList,prevTimeInList)\n",
    "        \n",
    "\n",
    "# part1sol = curList[2019]\n",
    "# print(f'Part 1 solution: {part1sol}')"
   ]
  },
  {
   "cell_type": "code",
   "execution_count": 31,
   "metadata": {
    "tags": []
   },
   "outputs": [
    {
     "output_type": "stream",
     "name": "stdout",
     "text": [
      "Part 1 solution: 253\n"
     ]
    }
   ],
   "source": [
    "#Faster and smarter part 1\n",
    "curList = orgList\n",
    "# maxVal = 30000000\n",
    "maxVal = 2025\n",
    "for k in range(len(curList),maxVal):\n",
    "    if ((k % 10000) == 0 ):\n",
    "        print(k)\n",
    "    # print(f'k: {k+1}')\n",
    "    # print(curList)\n",
    "    lastNum = curList[k-1]\n",
    "    # print(f'curNumber: {lastNum}')\n",
    "\n",
    "    timesFound = 0\n",
    "    numFound = False\n",
    "    prevTimeInList = 0\n",
    "    # for j in range(0,k-1):\n",
    "    # print(curList)\n",
    "    for j in range(k-2,-1,-1):\n",
    "        if (numFound == True):\n",
    "            continue\n",
    "        else:\n",
    "            # print(curList[j])\n",
    "            if (curList[j] == lastNum):\n",
    "                # print(f'found {lastNum} at place {j}')\n",
    "                # timesFound = timesFound + 1\n",
    "                numFound = True\n",
    "                prevTimeInList = k-j-1\n",
    "                # print(f'so diff: {prevTimeInList}')\n",
    "    # print(f'Prevtimeinlist: {prevTimeInList}')\n",
    "    curList = np.append(curList,prevTimeInList)\n",
    "\n",
    "# part1sol = curList[30000000-1]\n",
    "part1sol = curList[2020-1]\n",
    "print(f'Part 1 solution: {part1sol}')"
   ]
  },
  {
   "cell_type": "code",
   "execution_count": 37,
   "metadata": {},
   "outputs": [
    {
     "output_type": "stream",
     "name": "stdout",
     "text": [
      "{18: 1, 8: 2, 0: 3, 5: 4, 4: 5, 1: 6, 20: 7}\n7\n"
     ]
    }
   ],
   "source": [
    "# Part 2: Electric boogaloo\n",
    "curDict = {}\n",
    "for k in range(0,len(orgList)):\n",
    "    curNum = orgList[k]\n",
    "    # curDict[curNum] = len(orgList)-k-1\n",
    "    curDict[curNum] = k + 1\n",
    "print(curDict)"
   ]
  },
  {
   "cell_type": "code",
   "execution_count": 39,
   "metadata": {
    "tags": []
   },
   "outputs": [
    {
     "output_type": "stream",
     "name": "stdout",
     "text": [
      "1000000\n",
      "2000000\n",
      "3000000\n",
      "4000000\n",
      "5000000\n",
      "6000000\n",
      "7000000\n",
      "8000000\n",
      "9000000\n",
      "10000000\n",
      "11000000\n",
      "12000000\n",
      "13000000\n",
      "14000000\n",
      "15000000\n",
      "16000000\n",
      "17000000\n",
      "18000000\n",
      "19000000\n",
      "20000000\n",
      "21000000\n",
      "22000000\n",
      "23000000\n",
      "24000000\n",
      "25000000\n",
      "26000000\n",
      "27000000\n",
      "28000000\n",
      "29000000\n",
      "Part 2 solution: 6238\n"
     ]
    }
   ],
   "source": [
    "\n",
    "maxVal = 30000000\n",
    "newVal = 0 \n",
    "for k in range(len(orgList)+1,maxVal):\n",
    "    if ((k % 1000000) == 0 ):\n",
    "        print(k)\n",
    "    if newVal in curDict.keys():\n",
    "        prevVal = curDict[newVal]\n",
    "    else:\n",
    "        prevVal = k\n",
    "    curDict[newVal] = k\n",
    "    newVal = k - prevVal\n",
    "\n",
    "    if (k == maxVal-1):\n",
    "        part2sol = newVal\n",
    "print(f'Part 2 solution: {part2sol}')\n"
   ]
  },
  {
   "cell_type": "code",
   "execution_count": null,
   "metadata": {},
   "outputs": [],
   "source": [
    "\n",
    "\n",
    "# maxVal = 10\n",
    "# prevKey = orgList[-1]\n",
    "# # timeSinceLast = 0\n",
    "# prevVal = 0 \n",
    "# for k in range(4,10):\n",
    "#     print(curDict)\n",
    "#     print(f'Last number spoken: {prevKey}')\n",
    "#     print(f' with key: {curDict[prevKey]}')\n",
    "#     timeSinceLast = curDict[prevKey] - k + 1 \n",
    "#     print(f'PrevVal: {prevVal}')\n",
    "#     if (prevVal > 0):\n",
    "#         timeSinceLast =  timeSinceLast - prevVal\n",
    "#     print(f'new number to speak: {timeSinceLast}')\n",
    "#     nextKey = timeSinceLast\n",
    "#     if nextKey in curDict.keys():\n",
    "#         print('Already found in dictionary')\n",
    "#         prevVal = curDict[nextKey]\n",
    "#     else:\n",
    "#         prevVal = k\n",
    "\n",
    "#     curDict[nextKey] = k\n",
    "#     prevKey = nextKey"
   ]
  },
  {
   "cell_type": "code",
   "execution_count": null,
   "metadata": {},
   "outputs": [],
   "source": [
    "\n",
    "# maxVal = 10\n",
    "# lastVal = orgList[-1]\n",
    "# timeSinceLast = 0\n",
    "# prevVal = 0 \n",
    "# for k in range(4,10):\n",
    "#     print(f'Last number spoken: {lastVal}')\n",
    "#     print(curDict[lastVal])\n",
    "#     timeSinceLast = curDict[lastVal] - k + 1 \n",
    "#     # print(timeSinceLast)\n",
    "#     print(f'new number to speak: {timeSinceLast}')\n",
    "#     if timeSinceLast in curDict.keys():\n",
    "#         print('found')\n",
    "#         prevVal = curDict[timeSinceLast]\n",
    "#         curDict[timeSinceLast] = k \n",
    "#     print(curDict)\n",
    "#     lastVal = timeSinceLast\n"
   ]
  },
  {
   "cell_type": "code",
   "execution_count": 26,
   "metadata": {},
   "outputs": [
    {
     "output_type": "execute_result",
     "data": {
      "text/plain": [
       "{0: 2, 3: 1, 6: 0}"
      ]
     },
     "metadata": {},
     "execution_count": 26
    }
   ],
   "source": [
    "\n",
    "# maxVal = 10\n",
    "# curVal = orgList[-1]\n",
    "# timeSinceCurVal = curDict[curVal]\n",
    "# print(curVal)\n",
    "# for k in range(0,maxVal):\n",
    "#     print(f'k: {k}')\n",
    "#     print(f'timeSinceCurVal: {timeSinceCurVal}')\n",
    "#     print(f'So next number spoken is: {timeSinceCurVal}')\n",
    "#     # print(curDict.keys())\n",
    "#     # for ke in curDict.keys():\n",
    "#     #     if ke == newVal:\n",
    "#     if timeSinceCurVal in curDict.keys():\n",
    "#         print('timeSinceCurVal found')\n",
    "#         newVal = curDict[timeSinceCurVal] + 1\n",
    "#         print(f'and the distance to it is {newVal}')\n",
    "#     else:\n",
    "#         newVal = 0\n",
    "#     timeSinceCurVal = newVal\n",
    "\n",
    "#     # else:\n",
    "#         # newVal = \n",
    "#     # newVal = curDict[timeSinceCurVal] \n",
    "#     # print(newVal)\n",
    "#     curVal = newVal\n",
    "\n"
   ]
  }
 ]
}