{
 "metadata": {
  "language_info": {
   "codemirror_mode": {
    "name": "ipython",
    "version": 3
   },
   "file_extension": ".py",
   "mimetype": "text/x-python",
   "name": "python",
   "nbconvert_exporter": "python",
   "pygments_lexer": "ipython3",
   "version": "3.8.5-final"
  },
  "orig_nbformat": 2,
  "kernelspec": {
   "name": "python3",
   "display_name": "Python 3",
   "language": "python"
  }
 },
 "nbformat": 4,
 "nbformat_minor": 2,
 "cells": [
  {
   "cell_type": "code",
   "execution_count": 2,
   "metadata": {},
   "outputs": [
    {
     "output_type": "stream",
     "name": "stdout",
     "text": [
      "Done loading input\n"
     ]
    }
   ],
   "source": [
    "import numpy as np\n",
    "\n",
    "# Load input\n",
    "filename = 'inputDay16.txt'\n",
    "# filename = 'inputDay16test.txt'\n",
    "# filename = 'inputDay16test2.txt'\n",
    "# curIn = np.loadtxt(filename)\n",
    "\n",
    "# Start by loading the data\n",
    "inputFile = open(filename)\n",
    "inputs = []\n",
    "inputs = [s for s in inputFile.read().splitlines()]\n",
    "\n",
    "print('Done loading input')"
   ]
  },
  {
   "cell_type": "code",
   "execution_count": 3,
   "metadata": {},
   "outputs": [],
   "source": [
    "# Inputs handling\n",
    "rules = []\n",
    "yourTicket = ''\n",
    "nearT = []\n",
    "\n",
    "\n",
    "numBreak = 0\n",
    "for k in range(0,len(inputs)):\n",
    "    \n",
    "    if (inputs[k] != ''):\n",
    "        if  (numBreak == 0):\n",
    "            rules = np.append(rules,inputs[k])\n",
    "        if (numBreak == 1):\n",
    "            yourTicket = inputs[k]\n",
    "        if (numBreak == 2):\n",
    "            nearT = np.append(nearT,inputs[k])\n",
    "    else:\n",
    "        numBreak = numBreak + 1\n",
    "\n",
    "nearT = nearT[1:]\n",
    "\n",
    "# print(rules)\n",
    "# print(yourTicket)\n",
    "# print(nearT)"
   ]
  },
  {
   "cell_type": "code",
   "execution_count": 4,
   "metadata": {
    "tags": []
   },
   "outputs": [
    {
     "output_type": "stream",
     "name": "stdout",
     "text": [
      "['departure location: 34-269 or 286-964'\n 'departure station: 27-584 or 609-973'\n 'departure platform: 49-135 or 155-974'\n 'departure track: 36-248 or 255-954' 'departure date: 50-373 or 381-974'\n 'departure time: 49-454 or 472-967' 'arrival location: 33-900 or 925-968'\n 'arrival station: 46-699 or 706-965'\n 'arrival platform: 42-656 or 666-967' 'arrival track: 49-408 or 425-950'\n 'class: 30-626 or 651-957' 'duration: 43-109 or 127-964'\n 'price: 33-778 or 795-952' 'route: 37-296 or 315-966'\n 'row: 28-318 or 342-965' 'seat: 33-189 or 208-959'\n 'train: 49-536 or 552-968' 'type: 46-749 or 772-949'\n 'wagon: 29-386 or 401-954' 'zone: 34-344 or 368-954']\n"
     ]
    }
   ],
   "source": [
    "print(rules)"
   ]
  },
  {
   "cell_type": "code",
   "execution_count": 5,
   "metadata": {},
   "outputs": [],
   "source": [
    "RuleNames = []\n",
    "numRules = len(rules)\n",
    "\n",
    "# It seems all inputs have two ranges (Never more, never less)\n",
    "ran1 = []\n",
    "ran2 = []\n",
    "\n",
    "min1 = []\n",
    "max1 = []\n",
    "min2 = []\n",
    "max2 = []\n",
    "\n",
    "for r in rules:\n",
    "    spl = r.split(': ')\n",
    "    # print(spl)\n",
    "    RuleNames = np.append(RuleNames,spl[0])\n",
    "    rans = spl[1].split(' or ')\n",
    "    ran1 = np.append(ran1,rans[0])\n",
    "    ran2 = np.append(ran2,rans[1])\n",
    "    \n",
    "    mm1 = rans[0].split('-')\n",
    "    mm2 = rans[1].split('-')\n",
    "    min1 = np.append(min1,mm1[0])\n",
    "    max1 = np.append(max1,mm1[1])\n",
    "    min2 = np.append(min2,mm2[0])\n",
    "    max2 = np.append(max2,mm2[1])\n",
    "\n",
    "min1 = min1.astype(int)\n",
    "max1 = max1.astype(int)\n",
    "min2 = min2.astype(int)\n",
    "max2 = max2.astype(int)"
   ]
  },
  {
   "cell_type": "code",
   "execution_count": 6,
   "metadata": {},
   "outputs": [
    {
     "output_type": "stream",
     "name": "stdout",
     "text": [
      "Part 1 solution: 23122\n"
     ]
    }
   ],
   "source": [
    "numPas = len(nearT)\n",
    "\n",
    "validT = np.zeros((0,numRules))\n",
    "\n",
    "totInvalid = 0\n",
    "part1sol = 0\n",
    "for pa in nearT:\n",
    "    # print(pa)\n",
    "    paSp = pa.split(',')\n",
    "    # print(paSp)\n",
    "    curVals = np.array(paSp).astype(int)\n",
    "    # print(curVals)\n",
    "\n",
    "    numInvalid = 0\n",
    "    for val in curVals:\n",
    "        # print(val\n",
    "        anyTrue = False\n",
    "        for k in range(0,numRules):\n",
    "            in1 = False\n",
    "            in2 = False\n",
    "            \n",
    "            # print(f'between {min1[k]} and {max1[k]}')\n",
    "            if ((min1[k] <= val) & (val <= max1[k])):\n",
    "                in1 = True\n",
    "            # print(f'between {min2[k]} and {max2[k]}')\n",
    "            if ((min2[k] <= val) & (val <= max2[k])):\n",
    "                in2 = True\n",
    "            # print(f'{in1} and {in2}')\n",
    "\n",
    "            if (in1 | in2):\n",
    "                anyTrue = True\n",
    "            # print(f'So anytrue is: {anyTrue}')\n",
    "        if (anyTrue == False):\n",
    "            numInvalid = numInvalid + 1\n",
    "            part1sol = part1sol + val\n",
    "    if (numInvalid > 0):\n",
    "        totInvalid = totInvalid + 1\n",
    "    else:\n",
    "        \n",
    "        validT = np.vstack([validT,curVals])\n",
    "\n",
    "# print(totInvalid)\n",
    "print(f'Part 1 solution: {part1sol}')"
   ]
  },
  {
   "cell_type": "code",
   "execution_count": 7,
   "metadata": {
    "tags": []
   },
   "outputs": [],
   "source": [
    "# # Part 2\n",
    "\n",
    "# # # Rule has to include \"departure\"\n",
    "# # # This i only the 6 first rules, so the rest can be ignored\n",
    "# # numRulesToUse = 6\n",
    "\n",
    "# # for k in range(0,numRulesToUse):\n",
    "# #     print(RuleNames[k])\n",
    "\n",
    "# # Assumption: Each position is only valid for one field. \n",
    "# # Hence, we can simply exclude until only one position is left, and then use that\n",
    "\n",
    "# # For the test case\n",
    "# # for k in range(0,numRules):\n",
    "# for k in range(0,1):\n",
    "#     # print(f'Checking rule with name: {RuleNames[k]}')\n",
    "#     posPos = np.ones(numRules)\n",
    "#     # print(posPos)\n",
    "#     # Go through the valid tickets\n",
    "#     # for tic in validT:\n",
    "#     for t in range(0,len(validT)):\n",
    "#         tic= validT[t]\n",
    "#         print(tic)\n",
    "#         anyTrue = False\n",
    "#         # for val in tic:\n",
    "#         for v in range(0,len(tic)):\n",
    "#             val = tic[v]\n",
    "#             print(val)\n",
    "#             in1 = False\n",
    "#             in2 = False\n",
    "            \n",
    "#             print(f'between {min1[k]} and {max1[k]}')\n",
    "#             if ((min1[k] <= val) & (val <= max1[k])):\n",
    "#                 in1 = True\n",
    "#             print(f'between {min2[k]} and {max2[k]}')\n",
    "#             if ((min2[k] <= val) & (val <= max2[k])):\n",
    "#                 in2 = True\n",
    "#             print(f'{in1} and {in2}')\n",
    "\n",
    "#             if (in1 | in2):\n",
    "#                 anyTrue = True\n",
    "#             print(anyTrue)\n",
    "#             if (anyTrue == False):\n",
    "#                 posPos[v] = 0\n",
    "\n",
    "#     print(f'{RuleNames[k]} can be in positions: {posPos}')"
   ]
  },
  {
   "cell_type": "code",
   "execution_count": 8,
   "metadata": {
    "tags": []
   },
   "outputs": [
    {
     "output_type": "stream",
     "name": "stdout",
     "text": [
      "[ 0  1  2  3  4  5  6  7  8  9 10 11 12 13 14 15 16 17 18 19]\n",
      "[0. 0. 0. 0. 0. 0. 0. 0. 0. 1. 1. 1. 0. 0. 1. 0. 0. 1. 0. 0.] is pos 0\n",
      "[1. 0. 0. 0. 0. 0. 1. 1. 1. 1. 1. 1. 1. 0. 1. 0. 0. 1. 0. 0.] is pos 1\n",
      "[1. 1. 1. 0. 1. 1. 1. 1. 1. 1. 1. 1. 1. 0. 1. 0. 0. 1. 0. 0.] is pos 2\n",
      "[0. 0. 0. 0. 0. 0. 1. 1. 1. 1. 1. 1. 1. 0. 1. 0. 0. 1. 0. 0.] is pos 3\n",
      "[1. 1. 1. 1. 1. 1. 1. 1. 1. 1. 1. 1. 1. 0. 1. 0. 0. 1. 0. 0.] is pos 4\n",
      "[0. 0. 0. 0. 0. 0. 0. 0. 0. 1. 1. 1. 0. 0. 1. 0. 0. 0. 0. 0.] is pos 5\n",
      "[1. 0. 0. 0. 1. 1. 1. 1. 1. 1. 1. 1. 1. 0. 1. 0. 0. 1. 0. 0.] is pos 6\n",
      "[1. 1. 1. 1. 1. 1. 1. 1. 1. 1. 1. 1. 1. 0. 1. 0. 1. 1. 1. 0.] is pos 7\n",
      "[0. 0. 0. 0. 0. 0. 0. 0. 0. 1. 0. 0. 0. 0. 1. 0. 0. 0. 0. 0.] is pos 8\n",
      "[1. 1. 1. 1. 1. 1. 1. 1. 1. 1. 1. 1. 1. 1. 1. 0. 1. 1. 1. 1.] is pos 9\n",
      "[0. 0. 0. 0. 0. 0. 1. 0. 1. 1. 1. 1. 0. 0. 1. 0. 0. 1. 0. 0.] is pos 10\n",
      "[1. 1. 1. 1. 1. 1. 1. 1. 1. 1. 1. 1. 1. 1. 1. 1. 1. 1. 1. 1.] is pos 11\n",
      "[1. 1. 1. 1. 1. 1. 1. 1. 1. 1. 1. 1. 1. 0. 1. 0. 0. 1. 1. 0.] is pos 12\n",
      "[0. 0. 0. 0. 0. 0. 0. 0. 0. 1. 0. 0. 0. 0. 0. 0. 0. 0. 0. 0.] is pos 13\n",
      "[1. 0. 0. 0. 1. 0. 1. 1. 1. 1. 1. 1. 1. 0. 1. 0. 0. 1. 0. 0.] is pos 14\n",
      "[0. 0. 0. 0. 0. 0. 1. 0. 0. 1. 1. 1. 0. 0. 1. 0. 0. 1. 0. 0.] is pos 15\n",
      "[0. 0. 0. 0. 0. 0. 1. 0. 1. 1. 1. 1. 1. 0. 1. 0. 0. 1. 0. 0.] is pos 16\n",
      "[1. 1. 1. 1. 1. 1. 1. 1. 1. 1. 1. 1. 1. 1. 1. 0. 1. 1. 1. 0.] is pos 17\n",
      "[0. 0. 0. 0. 0. 0. 0. 0. 0. 1. 0. 1. 0. 0. 1. 0. 0. 0. 0. 0.] is pos 18\n",
      "[1. 1. 0. 0. 1. 1. 1. 1. 1. 1. 1. 1. 1. 0. 1. 0. 0. 1. 0. 0.] is pos 19\n"
     ]
    }
   ],
   "source": [
    "\n",
    "allPosPos = np.ones((numRules,numRules))\n",
    "print(np.arange(0,numRules,1))\n",
    "for po in range(0,numRules):\n",
    "# for po in range(0,3):\n",
    "    # print(f'Checking rule with name: {RuleNames[po]}')\n",
    "    # print(f'Checking position {po}')\n",
    "    allValsInPos = []\n",
    "    posPos = np.ones(numRules)\n",
    "    # Go through the valid tickets\n",
    "    for t in range(0,len(validT)):\n",
    "        tic= validT[t]\n",
    "        posVal = tic[po]\n",
    "        allValsInPos = np.append(allValsInPos,posVal)\n",
    "    # print(allValsInPos)\n",
    "\n",
    "    posPos = np.ones(numRules)\n",
    "\n",
    "    for val in allValsInPos:\n",
    "        # print(f'Value: {val}')\n",
    "        for k in range(0,numRules):\n",
    "            in1 = False\n",
    "            in2 = False\n",
    "            anyTrue = False\n",
    "            \n",
    "            # print(f'Checking rule with name: {RuleNames[k]}')\n",
    "            # print(f'between {min1[k]} and {max1[k]}')\n",
    "            if ((min1[k] <= val) & (val <= max1[k])):\n",
    "                in1 = True\n",
    "            # print(f'between {min2[k]} and {max2[k]}')\n",
    "            if ((min2[k] <= val) & (val <= max2[k])):\n",
    "                in2 = True\n",
    "            # print(f'{in1} and {in2}')\n",
    "            if (in1 | in2):\n",
    "                anyTrue = True\n",
    "            # print(anyTrue)\n",
    "            if (anyTrue == False):\n",
    "                posPos[k] = 0\n",
    "    # print(f'Possible rules for position {po}:')\n",
    "    print(f'{posPos} is pos {po}')\n",
    "    allPosPos[po] = posPos"
   ]
  },
  {
   "cell_type": "code",
   "execution_count": 49,
   "metadata": {},
   "outputs": [
    {
     "output_type": "stream",
     "name": "stdout",
     "text": [
      "362974212989\n"
     ]
    }
   ],
   "source": [
    "ySp = yourTicket.split(',')\n",
    "# Sudoku solved by hand:\n",
    "posToUse = [1,19,2,4,14,6]\n",
    "part2sol = 1\n",
    "for k in range(0,6):\n",
    "    part2sol = part2sol * int(ySp[posToUse[k]])\n",
    "print(part2sol)"
   ]
  },
  {
   "cell_type": "code",
   "execution_count": 50,
   "metadata": {},
   "outputs": [
    {
     "output_type": "stream",
     "name": "stdout",
     "text": [
      "Part 2 solution: 362974212989\n"
     ]
    }
   ],
   "source": [
    "# Johan's Linear Algebra solution to sudoku\n",
    "invPos = np.linalg.inv(allPosPos)\n",
    "solutions = np.where(invPos > 0)\n",
    "# print(solutions[1])\n",
    "\n",
    "ruleOrder = dict()\n",
    "for k in range(0,numRules):\n",
    "    ruleOrder[k] = solutions[1][k]\n",
    "# print(ruleOrder)\n",
    "\n",
    "ruleOrder[5]\n",
    "posToUse = []\n",
    "for k in range(0,6):\n",
    "    posToUse = np.append(posToUse,ruleOrder[k])\n",
    "# print(posToUse)\n",
    "\n",
    "\n",
    "ySp = yourTicket.split(',')\n",
    "part2sol = 1\n",
    "for k in range(0,6):\n",
    "    part2sol = part2sol * int(ySp[int(posToUse[k])])\n",
    "    \n",
    "\n",
    "print(f'Part 2 solution: {part2sol}')\n"
   ]
  },
  {
   "cell_type": "code",
   "execution_count": 320,
   "metadata": {},
   "outputs": [
    {
     "output_type": "stream",
     "name": "stdout",
     "text": [
      "{13: 9}\n"
     ]
    }
   ],
   "source": [
    "\n",
    "# ruleOrder = dict()\n",
    "# ruleOrder[13] = 9\n",
    "\n",
    "# print(ruleOrder)"
   ]
  },
  {
   "cell_type": "code",
   "execution_count": 317,
   "metadata": {},
   "outputs": [
    {
     "output_type": "stream",
     "name": "stdout",
     "text": [
      "[[0. 0. 0. 0. 0. 0. 0. 0. 0. 1. 1. 1. 0. 0. 1. 0. 0. 1. 0. 0.]\n [1. 0. 0. 0. 0. 0. 1. 1. 1. 1. 1. 1. 1. 0. 1. 0. 0. 1. 0. 0.]\n [1. 1. 1. 0. 1. 1. 1. 1. 1. 1. 1. 1. 1. 0. 1. 0. 0. 1. 0. 0.]\n [0. 0. 0. 0. 0. 0. 1. 1. 1. 1. 1. 1. 1. 0. 1. 0. 0. 1. 0. 0.]\n [1. 1. 1. 1. 1. 1. 1. 1. 1. 1. 1. 1. 1. 0. 1. 0. 0. 1. 0. 0.]\n [0. 0. 0. 0. 0. 0. 0. 0. 0. 1. 1. 1. 0. 0. 1. 0. 0. 0. 0. 0.]\n [1. 0. 0. 0. 1. 1. 1. 1. 1. 1. 1. 1. 1. 0. 1. 0. 0. 1. 0. 0.]\n [1. 1. 1. 1. 1. 1. 1. 1. 1. 1. 1. 1. 1. 0. 1. 0. 1. 1. 1. 0.]\n [0. 0. 0. 0. 0. 0. 0. 0. 0. 1. 0. 0. 0. 0. 1. 0. 0. 0. 0. 0.]\n [1. 1. 1. 1. 1. 1. 1. 1. 1. 1. 1. 1. 1. 1. 1. 0. 1. 1. 1. 1.]\n [0. 0. 0. 0. 0. 0. 1. 0. 1. 1. 1. 1. 0. 0. 1. 0. 0. 1. 0. 0.]\n [1. 1. 1. 1. 1. 1. 1. 1. 1. 1. 1. 1. 1. 1. 1. 1. 1. 1. 1. 1.]\n [1. 1. 1. 1. 1. 1. 1. 1. 1. 1. 1. 1. 1. 0. 1. 0. 0. 1. 1. 0.]\n [0. 0. 0. 0. 0. 0. 0. 0. 0. 1. 0. 0. 0. 0. 0. 0. 0. 0. 0. 0.]\n [1. 0. 0. 0. 1. 0. 1. 1. 1. 1. 1. 1. 1. 0. 1. 0. 0. 1. 0. 0.]\n [0. 0. 0. 0. 0. 0. 1. 0. 0. 1. 1. 1. 0. 0. 1. 0. 0. 1. 0. 0.]\n [0. 0. 0. 0. 0. 0. 1. 0. 1. 1. 1. 1. 1. 0. 1. 0. 0. 1. 0. 0.]\n [1. 1. 1. 1. 1. 1. 1. 1. 1. 1. 1. 1. 1. 1. 1. 0. 1. 1. 1. 0.]\n [0. 0. 0. 0. 0. 0. 0. 0. 0. 1. 0. 1. 0. 0. 1. 0. 0. 0. 0. 0.]\n [1. 1. 0. 0. 1. 1. 1. 1. 1. 1. 1. 1. 1. 0. 1. 0. 0. 1. 0. 0.]]\n"
     ]
    }
   ],
   "source": [
    "# print(allPosPos)"
   ]
  },
  {
   "cell_type": "code",
   "execution_count": 238,
   "metadata": {},
   "outputs": [
    {
     "output_type": "stream",
     "name": "stdout",
     "text": [
      "{'9': 13}\n"
     ]
    }
   ],
   "source": [
    "# # Sudoku solving by hand:\n",
    "\n",
    "# def removeVal(toRmRow,toRmCol,a):\n",
    "#     # toRm = 13\n",
    "#     a = np.vstack((a[0:toRmRow],a[toRmRow+1:]))\n",
    "#     numValLeft = len(a[0]) - 1 \n",
    "\n",
    "#     b = np.ones((numValLeft,numValLeft))\n",
    "#     for k in range(0,numValLeft):\n",
    "#         newA = np.append(a[k][0:toRmCol],a[k][toRmCol+1:])\n",
    "#         b[k] = newA\n",
    "#     # print(b)\n",
    "#     return(b)\n",
    "\n",
    "# # print(allPosPos[])"
   ]
  },
  {
   "cell_type": "code",
   "execution_count": 315,
   "metadata": {},
   "outputs": [
    {
     "output_type": "stream",
     "name": "stdout",
     "text": [
      "{9: 13}\n"
     ]
    }
   ],
   "source": [
    "\n",
    "# a = allPosPos\n",
    "# # print(a)\n",
    "# # Position 13 is rule 9\n",
    "# ruleOrder = dict()\n",
    "# ruleOrder[9] = 13 \n",
    "# print(ruleOrder)"
   ]
  },
  {
   "cell_type": "code",
   "execution_count": 316,
   "metadata": {},
   "outputs": [
    {
     "output_type": "stream",
     "name": "stdout",
     "text": [
      "{9: 5, 13: 8, 10: 16}\n"
     ]
    }
   ],
   "source": [
    "# t = removeVal(13,9,a)\n",
    "# # print(t1)\n",
    "# # print(t1[8][13])\n",
    "# ruleOrder[13] = 8\n",
    "# t = removeVal(8,13,t)\n",
    "# # print(t2)\n",
    "# # print(t2[16][10])\n",
    "# ruleOrder[10] = 16\n",
    "# t = removeVal(16,10,t)\n",
    "# # print(t3)\n",
    "# # print(t3[5][9])\n",
    "# ruleOrder[9] = 5\n",
    "# t = removeVal(5,9,t)\n",
    "\n",
    "\n",
    "# print(ruleOrder)\n"
   ]
  },
  {
   "cell_type": "code",
   "execution_count": 305,
   "metadata": {},
   "outputs": [
    {
     "output_type": "execute_result",
     "data": {
      "text/plain": [
       "{9: 13, 13: 8, 10: 16}"
      ]
     },
     "metadata": {},
     "execution_count": 305
    }
   ],
   "source": [
    "# a = allPosPos.copy()\n",
    "# curMat = a.copy()\n",
    "\n",
    "# ruleOrder = dict()\n",
    "# numRuns = 2\n",
    "# for run in range(0,numRuns):\n",
    "#     for k in range(0,len(a)):\n",
    "#         num1 = sum(a[k])\n",
    "#         if (num1 == 1):\n",
    "#             toRmRow = k\n",
    "#             toRmCol = np.where(a[k] == 1)[0][0]\n",
    "        \n",
    "#         # print(t2[16][10])\n",
    "#         ruleOrder[toRmCol] = toRmRow\n",
    "#         # print(ruleOrder)\n",
    "#         newMat = removeVal(toRmRow,toRmCol,a)\n",
    "\n",
    "#     a = newMat\n",
    "#     ruleOrder\n",
    "# # for k in range(0,len(a)):\n",
    "# #     num1 = sum(a[k])\n",
    "# #     if (num1 == 1):\n",
    "# #         toRmRow = k\n",
    "# #         toRmCol = np.where(a[k] == 1)[0][0]\n",
    "    \n",
    "# #     # print(t2[16][10])\n",
    "# #     ruleOrder[toRmCol] = toRmRow\n",
    "# #     curMat = removeVal(toRmRow,toRmCol,a)\n",
    "    \n",
    "# ruleOrder"
   ]
  }
 ]
}